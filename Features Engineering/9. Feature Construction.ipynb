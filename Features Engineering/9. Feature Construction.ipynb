{
 "cells": [
  {
   "cell_type": "code",
   "execution_count": 1,
   "id": "21bfaac6-8862-45fb-948a-9869b94051b6",
   "metadata": {},
   "outputs": [],
   "source": [
    "import pandas as pd"
   ]
  },
  {
   "cell_type": "markdown",
   "id": "3d77b24f-2292-4285-9b43-f4c32918d70e",
   "metadata": {},
   "source": [
    "# Example -1 Employee Tenure"
   ]
  },
  {
   "cell_type": "code",
   "execution_count": 6,
   "id": "011aae0d-cfb4-4d56-bfe8-fd3e220190fc",
   "metadata": {},
   "outputs": [],
   "source": [
    "data = {\n",
    "    'employee_id': [1, 2, 3],\n",
    "    'hire_data': ['2015-01-01', '2018-06-15', '2020-09-30']\n",
    "}"
   ]
  },
  {
   "cell_type": "code",
   "execution_count": 3,
   "id": "718d51c6-f17c-467e-bb98-db4dd48563ba",
   "metadata": {},
   "outputs": [],
   "source": [
    "df = pd.DataFrame(data)"
   ]
  },
  {
   "cell_type": "code",
   "execution_count": 4,
   "id": "bb8e7fe5-1647-44d7-ae82-6ab7bf866d55",
   "metadata": {},
   "outputs": [
    {
     "data": {
      "text/html": [
       "<div>\n",
       "<style scoped>\n",
       "    .dataframe tbody tr th:only-of-type {\n",
       "        vertical-align: middle;\n",
       "    }\n",
       "\n",
       "    .dataframe tbody tr th {\n",
       "        vertical-align: top;\n",
       "    }\n",
       "\n",
       "    .dataframe thead th {\n",
       "        text-align: right;\n",
       "    }\n",
       "</style>\n",
       "<table border=\"1\" class=\"dataframe\">\n",
       "  <thead>\n",
       "    <tr style=\"text-align: right;\">\n",
       "      <th></th>\n",
       "      <th>employee_id</th>\n",
       "      <th>hire_data</th>\n",
       "    </tr>\n",
       "  </thead>\n",
       "  <tbody>\n",
       "    <tr>\n",
       "      <th>0</th>\n",
       "      <td>1</td>\n",
       "      <td>2015-01-01</td>\n",
       "    </tr>\n",
       "    <tr>\n",
       "      <th>1</th>\n",
       "      <td>2</td>\n",
       "      <td>2018-06-15</td>\n",
       "    </tr>\n",
       "    <tr>\n",
       "      <th>2</th>\n",
       "      <td>3</td>\n",
       "      <td>2020-09-30</td>\n",
       "    </tr>\n",
       "  </tbody>\n",
       "</table>\n",
       "</div>"
      ],
      "text/plain": [
       "   employee_id   hire_data\n",
       "0            1  2015-01-01\n",
       "1            2  2018-06-15\n",
       "2            3  2020-09-30"
      ]
     },
     "execution_count": 4,
     "metadata": {},
     "output_type": "execute_result"
    }
   ],
   "source": [
    "df"
   ]
  },
  {
   "cell_type": "code",
   "execution_count": 7,
   "id": "0c2486ca-2d1e-4550-a7f2-2376708e9b00",
   "metadata": {},
   "outputs": [],
   "source": [
    "df['hire_data'] = pd.to_datetime(df['hire_data'])"
   ]
  },
  {
   "cell_type": "code",
   "execution_count": 8,
   "id": "4052d647-d0e8-489d-a955-d423087a6b9f",
   "metadata": {},
   "outputs": [],
   "source": [
    "current_date = pd.to_datetime('2024-08-13')"
   ]
  },
  {
   "cell_type": "code",
   "execution_count": 9,
   "id": "500a5245-c893-4be6-a08d-bc3b99637eea",
   "metadata": {},
   "outputs": [],
   "source": [
    "df['tenure_years'] = (current_date - df['hire_data']).dt.days // 365"
   ]
  },
  {
   "cell_type": "code",
   "execution_count": 10,
   "id": "4c392318-86f3-4226-93ec-841ccd30c5c5",
   "metadata": {},
   "outputs": [
    {
     "data": {
      "text/html": [
       "<div>\n",
       "<style scoped>\n",
       "    .dataframe tbody tr th:only-of-type {\n",
       "        vertical-align: middle;\n",
       "    }\n",
       "\n",
       "    .dataframe tbody tr th {\n",
       "        vertical-align: top;\n",
       "    }\n",
       "\n",
       "    .dataframe thead th {\n",
       "        text-align: right;\n",
       "    }\n",
       "</style>\n",
       "<table border=\"1\" class=\"dataframe\">\n",
       "  <thead>\n",
       "    <tr style=\"text-align: right;\">\n",
       "      <th></th>\n",
       "      <th>employee_id</th>\n",
       "      <th>hire_data</th>\n",
       "      <th>tenure_years</th>\n",
       "    </tr>\n",
       "  </thead>\n",
       "  <tbody>\n",
       "    <tr>\n",
       "      <th>0</th>\n",
       "      <td>1</td>\n",
       "      <td>2015-01-01</td>\n",
       "      <td>9</td>\n",
       "    </tr>\n",
       "    <tr>\n",
       "      <th>1</th>\n",
       "      <td>2</td>\n",
       "      <td>2018-06-15</td>\n",
       "      <td>6</td>\n",
       "    </tr>\n",
       "    <tr>\n",
       "      <th>2</th>\n",
       "      <td>3</td>\n",
       "      <td>2020-09-30</td>\n",
       "      <td>3</td>\n",
       "    </tr>\n",
       "  </tbody>\n",
       "</table>\n",
       "</div>"
      ],
      "text/plain": [
       "   employee_id  hire_data  tenure_years\n",
       "0            1 2015-01-01             9\n",
       "1            2 2018-06-15             6\n",
       "2            3 2020-09-30             3"
      ]
     },
     "execution_count": 10,
     "metadata": {},
     "output_type": "execute_result"
    }
   ],
   "source": [
    "df"
   ]
  },
  {
   "cell_type": "code",
   "execution_count": null,
   "id": "1b5a6761-b784-4bca-b065-0e85b7341adf",
   "metadata": {},
   "outputs": [],
   "source": []
  },
  {
   "cell_type": "code",
   "execution_count": null,
   "id": "f40aa7e9-28de-4bb8-901f-51e649718941",
   "metadata": {},
   "outputs": [],
   "source": []
  },
  {
   "cell_type": "markdown",
   "id": "c8e7fc79-f7dc-4956-8155-323bca159fd5",
   "metadata": {},
   "source": [
    "# Example 2. Social Media Engagment"
   ]
  },
  {
   "cell_type": "code",
   "execution_count": 11,
   "id": "8331f1c9-b6f9-4951-a267-6a216e788740",
   "metadata": {},
   "outputs": [],
   "source": [
    "data ={\n",
    "    'post_id':[1,2,3],\n",
    "    'likes':[100,150,200],\n",
    "    'comments':[10,15,20],\n",
    "    'share':[5,8,10]\n",
    "}"
   ]
  },
  {
   "cell_type": "code",
   "execution_count": 12,
   "id": "e9f9576c-4b51-4dad-b69d-d7536efb64f3",
   "metadata": {},
   "outputs": [],
   "source": [
    "df = pd.DataFrame(data)"
   ]
  },
  {
   "cell_type": "code",
   "execution_count": 13,
   "id": "458ee7e5-234c-4421-b733-969eaf9559c4",
   "metadata": {},
   "outputs": [],
   "source": [
    "df['Engagment_rate'] = (df['likes']+df['comments']+df['share'])/3"
   ]
  },
  {
   "cell_type": "code",
   "execution_count": 14,
   "id": "f54fe945-ab6b-4cb7-a3c8-823672fa028e",
   "metadata": {},
   "outputs": [
    {
     "data": {
      "text/html": [
       "<div>\n",
       "<style scoped>\n",
       "    .dataframe tbody tr th:only-of-type {\n",
       "        vertical-align: middle;\n",
       "    }\n",
       "\n",
       "    .dataframe tbody tr th {\n",
       "        vertical-align: top;\n",
       "    }\n",
       "\n",
       "    .dataframe thead th {\n",
       "        text-align: right;\n",
       "    }\n",
       "</style>\n",
       "<table border=\"1\" class=\"dataframe\">\n",
       "  <thead>\n",
       "    <tr style=\"text-align: right;\">\n",
       "      <th></th>\n",
       "      <th>post_id</th>\n",
       "      <th>likes</th>\n",
       "      <th>comments</th>\n",
       "      <th>share</th>\n",
       "      <th>Engagment_rate</th>\n",
       "    </tr>\n",
       "  </thead>\n",
       "  <tbody>\n",
       "    <tr>\n",
       "      <th>0</th>\n",
       "      <td>1</td>\n",
       "      <td>100</td>\n",
       "      <td>10</td>\n",
       "      <td>5</td>\n",
       "      <td>38.333333</td>\n",
       "    </tr>\n",
       "    <tr>\n",
       "      <th>1</th>\n",
       "      <td>2</td>\n",
       "      <td>150</td>\n",
       "      <td>15</td>\n",
       "      <td>8</td>\n",
       "      <td>57.666667</td>\n",
       "    </tr>\n",
       "    <tr>\n",
       "      <th>2</th>\n",
       "      <td>3</td>\n",
       "      <td>200</td>\n",
       "      <td>20</td>\n",
       "      <td>10</td>\n",
       "      <td>76.666667</td>\n",
       "    </tr>\n",
       "  </tbody>\n",
       "</table>\n",
       "</div>"
      ],
      "text/plain": [
       "   post_id  likes  comments  share  Engagment_rate\n",
       "0        1    100        10      5       38.333333\n",
       "1        2    150        15      8       57.666667\n",
       "2        3    200        20     10       76.666667"
      ]
     },
     "execution_count": 14,
     "metadata": {},
     "output_type": "execute_result"
    }
   ],
   "source": [
    "df"
   ]
  },
  {
   "cell_type": "code",
   "execution_count": null,
   "id": "96f0badf-36c8-4705-b182-26801242d76d",
   "metadata": {},
   "outputs": [],
   "source": []
  }
 ],
 "metadata": {
  "kernelspec": {
   "display_name": "Python 3 (ipykernel)",
   "language": "python",
   "name": "python3"
  },
  "language_info": {
   "codemirror_mode": {
    "name": "ipython",
    "version": 3
   },
   "file_extension": ".py",
   "mimetype": "text/x-python",
   "name": "python",
   "nbconvert_exporter": "python",
   "pygments_lexer": "ipython3",
   "version": "3.12.3"
  }
 },
 "nbformat": 4,
 "nbformat_minor": 5
}
