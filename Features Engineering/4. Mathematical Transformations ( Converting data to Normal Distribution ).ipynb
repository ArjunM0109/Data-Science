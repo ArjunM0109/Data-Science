{
 "cells": [
  {
   "cell_type": "markdown",
   "id": "acb96d70-fb09-4907-85ed-e33e04d64cc6",
   "metadata": {},
   "source": [
    "# 1. Log Transformation"
   ]
  },
  {
   "cell_type": "markdown",
   "id": "bd99e890-365d-47d0-a32d-17598fbe23ba",
   "metadata": {},
   "source": [
    "#### * Worked in Positive skewed distribution\n",
    "####  * Not effective on Negative skewed distribution\n",
    "####  * Outlier mange\n",
    "#### y = log(x)"
   ]
  },
  {
   "cell_type": "code",
   "execution_count": null,
   "id": "55827c33-9b4d-460e-9782-0ff16584dbfc",
   "metadata": {},
   "outputs": [],
   "source": []
  },
  {
   "cell_type": "code",
   "execution_count": 1,
   "id": "6f7c50d3-7f7e-49dd-9317-109cd29f7773",
   "metadata": {},
   "outputs": [],
   "source": [
    "import numpy as np\n",
    "import pandas as pd\n",
    "import matplotlib.pyplot as plt\n",
    "from scipy.stats import skew"
   ]
  },
  {
   "cell_type": "code",
   "execution_count": 2,
   "id": "d857b43c-79aa-44ad-80d8-0988089cd6e5",
   "metadata": {},
   "outputs": [],
   "source": [
    "np.random.seed(0)\n",
    "data = {\n",
    "    'value': np.random.exponential(scale=2.0,size=1000)\n",
    "}\n",
    "df = pd.DataFrame(data)"
   ]
  },
  {
   "cell_type": "code",
   "execution_count": 3,
   "id": "30f22405-f9dd-4e54-bd35-7b73cc22b5bf",
   "metadata": {},
   "outputs": [
    {
     "data": {
      "text/html": [
       "<div>\n",
       "<style scoped>\n",
       "    .dataframe tbody tr th:only-of-type {\n",
       "        vertical-align: middle;\n",
       "    }\n",
       "\n",
       "    .dataframe tbody tr th {\n",
       "        vertical-align: top;\n",
       "    }\n",
       "\n",
       "    .dataframe thead th {\n",
       "        text-align: right;\n",
       "    }\n",
       "</style>\n",
       "<table border=\"1\" class=\"dataframe\">\n",
       "  <thead>\n",
       "    <tr style=\"text-align: right;\">\n",
       "      <th></th>\n",
       "      <th>value</th>\n",
       "    </tr>\n",
       "  </thead>\n",
       "  <tbody>\n",
       "    <tr>\n",
       "      <th>0</th>\n",
       "      <td>1.591749</td>\n",
       "    </tr>\n",
       "    <tr>\n",
       "      <th>1</th>\n",
       "      <td>2.511862</td>\n",
       "    </tr>\n",
       "    <tr>\n",
       "      <th>2</th>\n",
       "      <td>1.846446</td>\n",
       "    </tr>\n",
       "    <tr>\n",
       "      <th>3</th>\n",
       "      <td>1.574402</td>\n",
       "    </tr>\n",
       "    <tr>\n",
       "      <th>4</th>\n",
       "      <td>1.102097</td>\n",
       "    </tr>\n",
       "    <tr>\n",
       "      <th>...</th>\n",
       "      <td>...</td>\n",
       "    </tr>\n",
       "    <tr>\n",
       "      <th>995</th>\n",
       "      <td>0.205564</td>\n",
       "    </tr>\n",
       "    <tr>\n",
       "      <th>996</th>\n",
       "      <td>1.446892</td>\n",
       "    </tr>\n",
       "    <tr>\n",
       "      <th>997</th>\n",
       "      <td>5.574577</td>\n",
       "    </tr>\n",
       "    <tr>\n",
       "      <th>998</th>\n",
       "      <td>0.519217</td>\n",
       "    </tr>\n",
       "    <tr>\n",
       "      <th>999</th>\n",
       "      <td>2.261080</td>\n",
       "    </tr>\n",
       "  </tbody>\n",
       "</table>\n",
       "<p>1000 rows × 1 columns</p>\n",
       "</div>"
      ],
      "text/plain": [
       "        value\n",
       "0    1.591749\n",
       "1    2.511862\n",
       "2    1.846446\n",
       "3    1.574402\n",
       "4    1.102097\n",
       "..        ...\n",
       "995  0.205564\n",
       "996  1.446892\n",
       "997  5.574577\n",
       "998  0.519217\n",
       "999  2.261080\n",
       "\n",
       "[1000 rows x 1 columns]"
      ]
     },
     "execution_count": 3,
     "metadata": {},
     "output_type": "execute_result"
    }
   ],
   "source": [
    "df"
   ]
  },
  {
   "cell_type": "code",
   "execution_count": 4,
   "id": "8011cb8f-1dac-49bc-a070-984134a5b07d",
   "metadata": {},
   "outputs": [
    {
     "data": {
      "image/png": "[encoded data removed]",
      "text/plain": [
       "<Figure size 640x480 with 1 Axes>"
      ]
     },
     "metadata": {},
     "output_type": "display_data"
    }
   ],
   "source": [
    "plt.hist(df['value'],bins=30,color='blue',alpha=0.7,edgecolor='black')\n",
    "plt.show()"
   ]
  },
  {
   "cell_type": "code",
   "execution_count": 5,
   "id": "8a71d679-d022-422b-bc5b-e5372d720b0e",
   "metadata": {},
   "outputs": [
    {
     "data": {
      "text/plain": [
       "2.0526452829685935"
      ]
     },
     "execution_count": 5,
     "metadata": {},
     "output_type": "execute_result"
    }
   ],
   "source": [
    "skew(df['value'])"
   ]
  },
  {
   "cell_type": "code",
   "execution_count": 6,
   "id": "9a1f224e-9947-4131-9f97-474385858ce4",
   "metadata": {},
   "outputs": [],
   "source": [
    "df['log_transform_value'] = np.log(df['value']+1)"
   ]
  },
  {
   "cell_type": "code",
   "execution_count": 7,
   "id": "82fd37e0-fc19-463a-a128-33f2f2d6b6f9",
   "metadata": {},
   "outputs": [
    {
     "data": {
      "text/html": [
       "<div>\n",
       "<style scoped>\n",
       "    .dataframe tbody tr th:only-of-type {\n",
       "        vertical-align: middle;\n",
       "    }\n",
       "\n",
       "    .dataframe tbody tr th {\n",
       "        vertical-align: top;\n",
       "    }\n",
       "\n",
       "    .dataframe thead th {\n",
       "        text-align: right;\n",
       "    }\n",
       "</style>\n",
       "<table border=\"1\" class=\"dataframe\">\n",
       "  <thead>\n",
       "    <tr style=\"text-align: right;\">\n",
       "      <th></th>\n",
       "      <th>value</th>\n",
       "      <th>log_transform_value</th>\n",
       "    </tr>\n",
       "  </thead>\n",
       "  <tbody>\n",
       "    <tr>\n",
       "      <th>0</th>\n",
       "      <td>1.591749</td>\n",
       "      <td>0.952333</td>\n",
       "    </tr>\n",
       "    <tr>\n",
       "      <th>1</th>\n",
       "      <td>2.511862</td>\n",
       "      <td>1.256146</td>\n",
       "    </tr>\n",
       "    <tr>\n",
       "      <th>2</th>\n",
       "      <td>1.846446</td>\n",
       "      <td>1.046071</td>\n",
       "    </tr>\n",
       "  </tbody>\n",
       "</table>\n",
       "</div>"
      ],
      "text/plain": [
       "      value  log_transform_value\n",
       "0  1.591749             0.952333\n",
       "1  2.511862             1.256146\n",
       "2  1.846446             1.046071"
      ]
     },
     "execution_count": 7,
     "metadata": {},
     "output_type": "execute_result"
    }
   ],
   "source": [
    "df.head(3)"
   ]
  },
  {
   "cell_type": "code",
   "execution_count": 8,
   "id": "33e160e5-af60-44b6-b140-7d085f9c2de9",
   "metadata": {},
   "outputs": [
    {
     "data": {
      "image/png": "[encoded data removed]",
      "text/plain": [
       "<Figure size 640x480 with 1 Axes>"
      ]
     },
     "metadata": {},
     "output_type": "display_data"
    }
   ],
   "source": [
    "plt.hist(df['log_transform_value'],bins=30,color='green',alpha=0.7,edgecolor='black')\n",
    "plt.show()"
   ]
  },
  {
   "cell_type": "code",
   "execution_count": 9,
   "id": "07938172-9044-4197-a653-69b65a6e996b",
   "metadata": {},
   "outputs": [
    {
     "data": {
      "text/plain": [
       "0.49140926471790436"
      ]
     },
     "execution_count": 9,
     "metadata": {},
     "output_type": "execute_result"
    }
   ],
   "source": [
    "skew(df['log_transform_value'])"
   ]
  },
  {
   "cell_type": "code",
   "execution_count": null,
   "id": "3237a361-5d71-419c-88d2-3183a3bc5e49",
   "metadata": {},
   "outputs": [],
   "source": []
  },
  {
   "cell_type": "code",
   "execution_count": null,
   "id": "e6e6dd14-71eb-4de4-b968-6e1f67dda388",
   "metadata": {},
   "outputs": [],
   "source": []
  },
  {
   "cell_type": "markdown",
   "id": "b47e76fc-0ec6-4840-875a-8cc5289f2890",
   "metadata": {},
   "source": [
    "# 2. Square root Transfromation"
   ]
  },
  {
   "cell_type": "markdown",
   "id": "f40ff3a1-3ec6-43fb-a639-e94bda271013",
   "metadata": {},
   "source": [
    "#### 𝑦 = sqr_root(x)"
   ]
  },
  {
   "cell_type": "markdown",
   "id": "75e69bdc-c0cb-4bfe-a7aa-91e7ee659fb5",
   "metadata": {},
   "source": [
    "#### Exactly work as log transformation"
   ]
  },
  {
   "cell_type": "code",
   "execution_count": 10,
   "id": "359f4a19-13e6-4548-b1ad-268ea7ba0b6b",
   "metadata": {},
   "outputs": [],
   "source": [
    "np.random.seed(0)\n",
    "data_1 = {\n",
    "    'original_data': np.random.exponential(scale=2.0,size=1000)\n",
    "}\n",
    "df_1 = pd.DataFrame(data_1)"
   ]
  },
  {
   "cell_type": "code",
   "execution_count": 11,
   "id": "8d3ac236-0301-4196-9c25-7cc5be4dbf24",
   "metadata": {},
   "outputs": [
    {
     "data": {
      "text/html": [
       "<div>\n",
       "<style scoped>\n",
       "    .dataframe tbody tr th:only-of-type {\n",
       "        vertical-align: middle;\n",
       "    }\n",
       "\n",
       "    .dataframe tbody tr th {\n",
       "        vertical-align: top;\n",
       "    }\n",
       "\n",
       "    .dataframe thead th {\n",
       "        text-align: right;\n",
       "    }\n",
       "</style>\n",
       "<table border=\"1\" class=\"dataframe\">\n",
       "  <thead>\n",
       "    <tr style=\"text-align: right;\">\n",
       "      <th></th>\n",
       "      <th>original_data</th>\n",
       "    </tr>\n",
       "  </thead>\n",
       "  <tbody>\n",
       "    <tr>\n",
       "      <th>0</th>\n",
       "      <td>1.591749</td>\n",
       "    </tr>\n",
       "    <tr>\n",
       "      <th>1</th>\n",
       "      <td>2.511862</td>\n",
       "    </tr>\n",
       "    <tr>\n",
       "      <th>2</th>\n",
       "      <td>1.846446</td>\n",
       "    </tr>\n",
       "    <tr>\n",
       "      <th>3</th>\n",
       "      <td>1.574402</td>\n",
       "    </tr>\n",
       "    <tr>\n",
       "      <th>4</th>\n",
       "      <td>1.102097</td>\n",
       "    </tr>\n",
       "    <tr>\n",
       "      <th>...</th>\n",
       "      <td>...</td>\n",
       "    </tr>\n",
       "    <tr>\n",
       "      <th>995</th>\n",
       "      <td>0.205564</td>\n",
       "    </tr>\n",
       "    <tr>\n",
       "      <th>996</th>\n",
       "      <td>1.446892</td>\n",
       "    </tr>\n",
       "    <tr>\n",
       "      <th>997</th>\n",
       "      <td>5.574577</td>\n",
       "    </tr>\n",
       "    <tr>\n",
       "      <th>998</th>\n",
       "      <td>0.519217</td>\n",
       "    </tr>\n",
       "    <tr>\n",
       "      <th>999</th>\n",
       "      <td>2.261080</td>\n",
       "    </tr>\n",
       "  </tbody>\n",
       "</table>\n",
       "<p>1000 rows × 1 columns</p>\n",
       "</div>"
      ],
      "text/plain": [
       "     original_data\n",
       "0         1.591749\n",
       "1         2.511862\n",
       "2         1.846446\n",
       "3         1.574402\n",
       "4         1.102097\n",
       "..             ...\n",
       "995       0.205564\n",
       "996       1.446892\n",
       "997       5.574577\n",
       "998       0.519217\n",
       "999       2.261080\n",
       "\n",
       "[1000 rows x 1 columns]"
      ]
     },
     "execution_count": 11,
     "metadata": {},
     "output_type": "execute_result"
    }
   ],
   "source": [
    "df_1"
   ]
  },
  {
   "cell_type": "code",
   "execution_count": 12,
   "id": "f46a805e-a6a4-493f-8769-783e0dd40c15",
   "metadata": {},
   "outputs": [
    {
     "data": {
      "image/png": "[encoded data removed]",
      "text/plain": [
       "<Figure size 640x480 with 1 Axes>"
      ]
     },
     "metadata": {},
     "output_type": "display_data"
    }
   ],
   "source": [
    "plt.hist(df_1['original_data'],bins=30,color='blue',alpha=0.7,edgecolor='black')\n",
    "plt.show()"
   ]
  },
  {
   "cell_type": "code",
   "execution_count": 13,
   "id": "5b3f26db-464a-4dc4-ba6e-bf5e8a8c076c",
   "metadata": {},
   "outputs": [
    {
     "data": {
      "text/plain": [
       "2.0526452829685935"
      ]
     },
     "execution_count": 13,
     "metadata": {},
     "output_type": "execute_result"
    }
   ],
   "source": [
    "skew(df_1['original_data'])"
   ]
  },
  {
   "cell_type": "code",
   "execution_count": 21,
   "id": "ce789def-05e3-487a-8bb4-5881e7e51380",
   "metadata": {},
   "outputs": [],
   "source": [
    "df_1['squrt_transformed'] = np.sqrt(df_1['original_data'])"
   ]
  },
  {
   "cell_type": "code",
   "execution_count": 22,
   "id": "fbb562dd-5c53-4b50-93be-302d5938b1ef",
   "metadata": {},
   "outputs": [
    {
     "data": {
      "text/html": [
       "<div>\n",
       "<style scoped>\n",
       "    .dataframe tbody tr th:only-of-type {\n",
       "        vertical-align: middle;\n",
       "    }\n",
       "\n",
       "    .dataframe tbody tr th {\n",
       "        vertical-align: top;\n",
       "    }\n",
       "\n",
       "    .dataframe thead th {\n",
       "        text-align: right;\n",
       "    }\n",
       "</style>\n",
       "<table border=\"1\" class=\"dataframe\">\n",
       "  <thead>\n",
       "    <tr style=\"text-align: right;\">\n",
       "      <th></th>\n",
       "      <th>original_data</th>\n",
       "      <th>squrt_transformed</th>\n",
       "    </tr>\n",
       "  </thead>\n",
       "  <tbody>\n",
       "    <tr>\n",
       "      <th>0</th>\n",
       "      <td>1.591749</td>\n",
       "      <td>1.261645</td>\n",
       "    </tr>\n",
       "    <tr>\n",
       "      <th>1</th>\n",
       "      <td>2.511862</td>\n",
       "      <td>1.584885</td>\n",
       "    </tr>\n",
       "    <tr>\n",
       "      <th>2</th>\n",
       "      <td>1.846446</td>\n",
       "      <td>1.358840</td>\n",
       "    </tr>\n",
       "  </tbody>\n",
       "</table>\n",
       "</div>"
      ],
      "text/plain": [
       "   original_data  squrt_transformed\n",
       "0       1.591749           1.261645\n",
       "1       2.511862           1.584885\n",
       "2       1.846446           1.358840"
      ]
     },
     "execution_count": 22,
     "metadata": {},
     "output_type": "execute_result"
    }
   ],
   "source": [
    "df_1.head(3)"
   ]
  },
  {
   "cell_type": "code",
   "execution_count": 27,
   "id": "5f125d66-01e7-49d6-8148-84a01034f265",
   "metadata": {},
   "outputs": [
    {
     "data": {
      "image/png": "[encoded data removed]",
      "text/plain": [
       "<Figure size 640x480 with 1 Axes>"
      ]
     },
     "metadata": {},
     "output_type": "display_data"
    }
   ],
   "source": [
    "plt.hist(df_1['squrt_transformed'],bins=30,color='green',alpha=0.7,edgecolor='black')\n",
    "plt.show()"
   ]
  },
  {
   "cell_type": "code",
   "execution_count": 26,
   "id": "f161f5f4-ea3f-45a4-9c24-0efb9559c88d",
   "metadata": {},
   "outputs": [
    {
     "data": {
      "text/plain": [
       "0.6920163230320187"
      ]
     },
     "execution_count": 26,
     "metadata": {},
     "output_type": "execute_result"
    }
   ],
   "source": [
    "skew(df_1['squrt_transformed'])"
   ]
  },
  {
   "cell_type": "code",
   "execution_count": null,
   "id": "1eb78bf4-731a-43b0-8236-106768bd2bc9",
   "metadata": {},
   "outputs": [],
   "source": []
  },
  {
   "cell_type": "code",
   "execution_count": null,
   "id": "18fc7ab7-6600-4166-b32f-e1528262db0f",
   "metadata": {},
   "outputs": [],
   "source": []
  },
  {
   "cell_type": "markdown",
   "id": "62621ad5-260d-4707-afb5-57261bf0dde2",
   "metadata": {},
   "source": [
    "# 3. Reciprocal Transformation"
   ]
  },
  {
   "cell_type": "markdown",
   "id": "f1d778a8-042b-4bc3-8761-2ea7ae596bda",
   "metadata": {},
   "source": [
    "#### y = 1 / x"
   ]
  },
  {
   "cell_type": "markdown",
   "id": "f5ac9a97-462e-4f49-bf7d-18237cc9ef32",
   "metadata": {},
   "source": [
    "#### * Same as log & squrt Trabsfromation and highly negative skewed data then we can use this"
   ]
  },
  {
   "cell_type": "code",
   "execution_count": 32,
   "id": "ccc85bb2-34de-4c05-a6f2-af43a1de1f76",
   "metadata": {},
   "outputs": [],
   "source": [
    "\n",
    "data_2 = np.random.exponential(scale=2.0,size=1000)\n",
    "data_2 = 50 - data_2\n",
    "df_2 = pd.DataFrame(data_2,columns=['original'])"
   ]
  },
  {
   "cell_type": "code",
   "execution_count": 33,
   "id": "14be4549-76b7-4ec4-8985-96344dc17058",
   "metadata": {},
   "outputs": [
    {
     "data": {
      "text/html": [
       "<div>\n",
       "<style scoped>\n",
       "    .dataframe tbody tr th:only-of-type {\n",
       "        vertical-align: middle;\n",
       "    }\n",
       "\n",
       "    .dataframe tbody tr th {\n",
       "        vertical-align: top;\n",
       "    }\n",
       "\n",
       "    .dataframe thead th {\n",
       "        text-align: right;\n",
       "    }\n",
       "</style>\n",
       "<table border=\"1\" class=\"dataframe\">\n",
       "  <thead>\n",
       "    <tr style=\"text-align: right;\">\n",
       "      <th></th>\n",
       "      <th>original</th>\n",
       "    </tr>\n",
       "  </thead>\n",
       "  <tbody>\n",
       "    <tr>\n",
       "      <th>0</th>\n",
       "      <td>48.931257</td>\n",
       "    </tr>\n",
       "    <tr>\n",
       "      <th>1</th>\n",
       "      <td>48.013558</td>\n",
       "    </tr>\n",
       "    <tr>\n",
       "      <th>2</th>\n",
       "      <td>46.984574</td>\n",
       "    </tr>\n",
       "    <tr>\n",
       "      <th>3</th>\n",
       "      <td>46.184881</td>\n",
       "    </tr>\n",
       "    <tr>\n",
       "      <th>4</th>\n",
       "      <td>46.609870</td>\n",
       "    </tr>\n",
       "    <tr>\n",
       "      <th>...</th>\n",
       "      <td>...</td>\n",
       "    </tr>\n",
       "    <tr>\n",
       "      <th>995</th>\n",
       "      <td>49.139543</td>\n",
       "    </tr>\n",
       "    <tr>\n",
       "      <th>996</th>\n",
       "      <td>48.858588</td>\n",
       "    </tr>\n",
       "    <tr>\n",
       "      <th>997</th>\n",
       "      <td>46.456052</td>\n",
       "    </tr>\n",
       "    <tr>\n",
       "      <th>998</th>\n",
       "      <td>44.599652</td>\n",
       "    </tr>\n",
       "    <tr>\n",
       "      <th>999</th>\n",
       "      <td>49.262683</td>\n",
       "    </tr>\n",
       "  </tbody>\n",
       "</table>\n",
       "<p>1000 rows × 1 columns</p>\n",
       "</div>"
      ],
      "text/plain": [
       "      original\n",
       "0    48.931257\n",
       "1    48.013558\n",
       "2    46.984574\n",
       "3    46.184881\n",
       "4    46.609870\n",
       "..         ...\n",
       "995  49.139543\n",
       "996  48.858588\n",
       "997  46.456052\n",
       "998  44.599652\n",
       "999  49.262683\n",
       "\n",
       "[1000 rows x 1 columns]"
      ]
     },
     "execution_count": 33,
     "metadata": {},
     "output_type": "execute_result"
    }
   ],
   "source": [
    "df_2"
   ]
  },
  {
   "cell_type": "code",
   "execution_count": 35,
   "id": "a959f5be-83c4-4a74-990a-5e2fa7e2b9d7",
   "metadata": {},
   "outputs": [
    {
     "data": {
      "text/plain": [
       "-2.275861809399678"
      ]
     },
     "execution_count": 35,
     "metadata": {},
     "output_type": "execute_result"
    }
   ],
   "source": [
    "skew(df_2['original'])"
   ]
  },
  {
   "cell_type": "code",
   "execution_count": 36,
   "id": "4f397d67-7672-4e2c-94ee-d4268a36fbb7",
   "metadata": {},
   "outputs": [
    {
     "data": {
      "image/png": "[encoded data removed]",
      "text/plain": [
       "<Figure size 640x480 with 1 Axes>"
      ]
     },
     "metadata": {},
     "output_type": "display_data"
    }
   ],
   "source": [
    "plt.hist(df_2['original'],bins=30,color='blue',alpha=0.7,edgecolor='black')\n",
    "plt.show()"
   ]
  },
  {
   "cell_type": "code",
   "execution_count": 38,
   "id": "56cff5e9-2d15-4a5e-8c18-9044c7d997b3",
   "metadata": {},
   "outputs": [],
   "source": [
    "df_2['reciprocal_trns']  = 1/df_2['original']"
   ]
  },
  {
   "cell_type": "code",
   "execution_count": 42,
   "id": "6524c46d-cb3e-4533-949e-3f30f87d69df",
   "metadata": {},
   "outputs": [
    {
     "data": {
      "text/html": [
       "<div>\n",
       "<style scoped>\n",
       "    .dataframe tbody tr th:only-of-type {\n",
       "        vertical-align: middle;\n",
       "    }\n",
       "\n",
       "    .dataframe tbody tr th {\n",
       "        vertical-align: top;\n",
       "    }\n",
       "\n",
       "    .dataframe thead th {\n",
       "        text-align: right;\n",
       "    }\n",
       "</style>\n",
       "<table border=\"1\" class=\"dataframe\">\n",
       "  <thead>\n",
       "    <tr style=\"text-align: right;\">\n",
       "      <th></th>\n",
       "      <th>original</th>\n",
       "      <th>reciprocal_trns</th>\n",
       "    </tr>\n",
       "  </thead>\n",
       "  <tbody>\n",
       "    <tr>\n",
       "      <th>0</th>\n",
       "      <td>48.931257</td>\n",
       "      <td>0.020437</td>\n",
       "    </tr>\n",
       "    <tr>\n",
       "      <th>1</th>\n",
       "      <td>48.013558</td>\n",
       "      <td>0.020827</td>\n",
       "    </tr>\n",
       "    <tr>\n",
       "      <th>2</th>\n",
       "      <td>46.984574</td>\n",
       "      <td>0.021284</td>\n",
       "    </tr>\n",
       "  </tbody>\n",
       "</table>\n",
       "</div>"
      ],
      "text/plain": [
       "    original  reciprocal_trns\n",
       "0  48.931257         0.020437\n",
       "1  48.013558         0.020827\n",
       "2  46.984574         0.021284"
      ]
     },
     "execution_count": 42,
     "metadata": {},
     "output_type": "execute_result"
    }
   ],
   "source": [
    "df_2.head(3)"
   ]
  },
  {
   "cell_type": "code",
   "execution_count": 39,
   "id": "5d1a6e1f-3f66-4546-a90a-d3deca550ab7",
   "metadata": {},
   "outputs": [
    {
     "data": {
      "image/png": "[encoded data removed]",
      "text/plain": [
       "<Figure size 640x480 with 1 Axes>"
      ]
     },
     "metadata": {},
     "output_type": "display_data"
    }
   ],
   "source": [
    "plt.hist(df_2['reciprocal_trns'],bins=30,color='green',alpha=0.7,edgecolor='black')\n",
    "plt.show()"
   ]
  },
  {
   "cell_type": "code",
   "execution_count": 43,
   "id": "f31f3475-a21e-47b9-8e78-e25105011470",
   "metadata": {},
   "outputs": [
    {
     "data": {
      "text/plain": [
       "3.5030417686336524"
      ]
     },
     "execution_count": 43,
     "metadata": {},
     "output_type": "execute_result"
    }
   ],
   "source": [
    "skew(df_2['reciprocal_trns'])"
   ]
  },
  {
   "cell_type": "code",
   "execution_count": null,
   "id": "5bff798e-0d3c-4bcf-a642-a9cc51de92d3",
   "metadata": {},
   "outputs": [],
   "source": []
  },
  {
   "cell_type": "code",
   "execution_count": null,
   "id": "a2e63aff-fa1a-4215-bf1e-5ffc5a590b82",
   "metadata": {},
   "outputs": [],
   "source": []
  },
  {
   "cell_type": "markdown",
   "id": "6fd2337b-7cb0-464e-806e-e4e26ecf475e",
   "metadata": {},
   "source": [
    "# 4. Box Cox transformation"
   ]
  },
  {
   "cell_type": "markdown",
   "id": "1d233320-8e64-48ea-bdb6-af6d5dc1d0bf",
   "metadata": {},
   "source": [
    "#### used in big data"
   ]
  },
  {
   "cell_type": "markdown",
   "id": "55200a05-4e9f-44fb-805f-672e1952caed",
   "metadata": {},
   "source": [
    "#### formula : y = ( X.power(λ) - 1 ) λ where λ!=0   or   y = log(x) where λ=0 "
   ]
  },
  {
   "cell_type": "code",
   "execution_count": 44,
   "id": "248d85d5-afb9-43d8-8aca-45434af00852",
   "metadata": {},
   "outputs": [],
   "source": [
    "np.random.seed(0)\n",
    "data = {\n",
    "    'A': np.random.exponential(scale=2.0,size=1000),\n",
    "    'B': np.random.chisquare(df=2,size=1000)\n",
    "}\n",
    "df_3 = pd.DataFrame(data)"
   ]
  },
  {
   "cell_type": "code",
   "execution_count": 45,
   "id": "de3ee4f8-19ba-473b-88c2-c85fd4f99c8a",
   "metadata": {},
   "outputs": [
    {
     "data": {
      "text/html": [
       "<div>\n",
       "<style scoped>\n",
       "    .dataframe tbody tr th:only-of-type {\n",
       "        vertical-align: middle;\n",
       "    }\n",
       "\n",
       "    .dataframe tbody tr th {\n",
       "        vertical-align: top;\n",
       "    }\n",
       "\n",
       "    .dataframe thead th {\n",
       "        text-align: right;\n",
       "    }\n",
       "</style>\n",
       "<table border=\"1\" class=\"dataframe\">\n",
       "  <thead>\n",
       "    <tr style=\"text-align: right;\">\n",
       "      <th></th>\n",
       "      <th>A</th>\n",
       "      <th>B</th>\n",
       "    </tr>\n",
       "  </thead>\n",
       "  <tbody>\n",
       "    <tr>\n",
       "      <th>0</th>\n",
       "      <td>1.591749</td>\n",
       "      <td>1.797296</td>\n",
       "    </tr>\n",
       "    <tr>\n",
       "      <th>1</th>\n",
       "      <td>2.511862</td>\n",
       "      <td>0.020229</td>\n",
       "    </tr>\n",
       "    <tr>\n",
       "      <th>2</th>\n",
       "      <td>1.846446</td>\n",
       "      <td>1.291864</td>\n",
       "    </tr>\n",
       "    <tr>\n",
       "      <th>3</th>\n",
       "      <td>1.574402</td>\n",
       "      <td>2.467287</td>\n",
       "    </tr>\n",
       "    <tr>\n",
       "      <th>4</th>\n",
       "      <td>1.102097</td>\n",
       "      <td>0.089943</td>\n",
       "    </tr>\n",
       "    <tr>\n",
       "      <th>...</th>\n",
       "      <td>...</td>\n",
       "      <td>...</td>\n",
       "    </tr>\n",
       "    <tr>\n",
       "      <th>995</th>\n",
       "      <td>0.205564</td>\n",
       "      <td>3.133538</td>\n",
       "    </tr>\n",
       "    <tr>\n",
       "      <th>996</th>\n",
       "      <td>1.446892</td>\n",
       "      <td>2.554508</td>\n",
       "    </tr>\n",
       "    <tr>\n",
       "      <th>997</th>\n",
       "      <td>5.574577</td>\n",
       "      <td>1.308268</td>\n",
       "    </tr>\n",
       "    <tr>\n",
       "      <th>998</th>\n",
       "      <td>0.519217</td>\n",
       "      <td>2.064885</td>\n",
       "    </tr>\n",
       "    <tr>\n",
       "      <th>999</th>\n",
       "      <td>2.261080</td>\n",
       "      <td>1.393399</td>\n",
       "    </tr>\n",
       "  </tbody>\n",
       "</table>\n",
       "<p>1000 rows × 2 columns</p>\n",
       "</div>"
      ],
      "text/plain": [
       "            A         B\n",
       "0    1.591749  1.797296\n",
       "1    2.511862  0.020229\n",
       "2    1.846446  1.291864\n",
       "3    1.574402  2.467287\n",
       "4    1.102097  0.089943\n",
       "..        ...       ...\n",
       "995  0.205564  3.133538\n",
       "996  1.446892  2.554508\n",
       "997  5.574577  1.308268\n",
       "998  0.519217  2.064885\n",
       "999  2.261080  1.393399\n",
       "\n",
       "[1000 rows x 2 columns]"
      ]
     },
     "execution_count": 45,
     "metadata": {},
     "output_type": "execute_result"
    }
   ],
   "source": [
    "df_3"
   ]
  },
  {
   "cell_type": "code",
   "execution_count": 46,
   "id": "2f3a4483-1240-4ce8-9778-03c20594d5ca",
   "metadata": {},
   "outputs": [
    {
     "name": "stdout",
     "output_type": "stream",
     "text": [
      "2.0526452829685935\n",
      "1.7494418645601095\n"
     ]
    }
   ],
   "source": [
    "print(skew(df_3['A']))\n",
    "print(skew(df_3['B']))"
   ]
  },
  {
   "cell_type": "code",
   "execution_count": 47,
   "id": "946974be-ac4b-42c7-bec9-cde65ab29f66",
   "metadata": {},
   "outputs": [
    {
     "data": {
      "image/png": "[encoded data removed]",
      "text/plain": [
       "<Figure size 640x480 with 1 Axes>"
      ]
     },
     "metadata": {},
     "output_type": "display_data"
    }
   ],
   "source": [
    "plt.hist(df_3['A'],bins=30,color='blue',alpha=0.7,edgecolor='black')\n",
    "plt.show()"
   ]
  },
  {
   "cell_type": "code",
   "execution_count": 48,
   "id": "3deafe8d-ea8b-4707-8267-6ce4bc1f9e89",
   "metadata": {},
   "outputs": [
    {
     "data": {
      "image/png": "[encoded data removed]",
      "text/plain": [
       "<Figure size 640x480 with 1 Axes>"
      ]
     },
     "metadata": {},
     "output_type": "display_data"
    }
   ],
   "source": [
    "plt.hist(df_3['B'],bins=30,color='blue',alpha=0.7,edgecolor='black')\n",
    "plt.show()"
   ]
  },
  {
   "cell_type": "code",
   "execution_count": 49,
   "id": "12dc3b13-f18f-4e51-a7f5-4d7aa6d829b5",
   "metadata": {},
   "outputs": [],
   "source": [
    "from scipy.stats import boxcox"
   ]
  },
  {
   "cell_type": "code",
   "execution_count": 50,
   "id": "a71321fd-823a-4be5-8a80-8abdeb5b277d",
   "metadata": {},
   "outputs": [],
   "source": [
    "df_3['trans_A'],lambda_value_a = boxcox(df_3['A'])"
   ]
  },
  {
   "cell_type": "code",
   "execution_count": 57,
   "id": "985f1a02-c4be-4e95-9144-f74f9c0967ec",
   "metadata": {},
   "outputs": [
    {
     "data": {
      "text/plain": [
       "0.24201319781520778"
      ]
     },
     "execution_count": 57,
     "metadata": {},
     "output_type": "execute_result"
    }
   ],
   "source": [
    "lambda_value_a"
   ]
  },
  {
   "cell_type": "code",
   "execution_count": 51,
   "id": "ef0ac824-aca6-4345-a3b6-eb28e86ef23f",
   "metadata": {},
   "outputs": [],
   "source": [
    "df_3['trans_B'],lambda_value_b = boxcox(df_3['B'])"
   ]
  },
  {
   "cell_type": "code",
   "execution_count": 58,
   "id": "a4780a9a-6774-446c-a911-4f939bf662db",
   "metadata": {},
   "outputs": [
    {
     "data": {
      "text/plain": [
       "0.26829917070784687"
      ]
     },
     "execution_count": 58,
     "metadata": {},
     "output_type": "execute_result"
    }
   ],
   "source": [
    "lambda_value_b"
   ]
  },
  {
   "cell_type": "code",
   "execution_count": 52,
   "id": "22e2b500-2708-4754-82be-e0a44d57f282",
   "metadata": {},
   "outputs": [
    {
     "data": {
      "image/png": "[encoded data removed]",
      "text/plain": [
       "<Figure size 640x480 with 1 Axes>"
      ]
     },
     "metadata": {},
     "output_type": "display_data"
    }
   ],
   "source": [
    "plt.hist(df_3['trans_A'],bins=30,color='green',alpha=0.7,edgecolor='black')\n",
    "plt.show()"
   ]
  },
  {
   "cell_type": "code",
   "execution_count": 53,
   "id": "86d5c406-1f9f-452a-a83c-8538a7b7705c",
   "metadata": {},
   "outputs": [
    {
     "data": {
      "image/png": "[encoded data removed]",
      "text/plain": [
       "<Figure size 640x480 with 1 Axes>"
      ]
     },
     "metadata": {},
     "output_type": "display_data"
    }
   ],
   "source": [
    "plt.hist(df_3['trans_B'],bins=30,color='green',alpha=0.7,edgecolor='black')\n",
    "plt.show()"
   ]
  },
  {
   "cell_type": "code",
   "execution_count": 55,
   "id": "4f421c76-45b4-46ed-acaf-5b6aab2cca9a",
   "metadata": {},
   "outputs": [
    {
     "data": {
      "text/plain": [
       "-0.031578572476943456"
      ]
     },
     "execution_count": 55,
     "metadata": {},
     "output_type": "execute_result"
    }
   ],
   "source": [
    "skew(df_3['trans_A'])"
   ]
  },
  {
   "cell_type": "code",
   "execution_count": 56,
   "id": "496e7029-89bf-4b71-ba31-df05414356f9",
   "metadata": {},
   "outputs": [
    {
     "data": {
      "text/plain": [
       "-0.05776865919882928"
      ]
     },
     "execution_count": 56,
     "metadata": {},
     "output_type": "execute_result"
    }
   ],
   "source": [
    "skew(df_3['trans_B'])"
   ]
  },
  {
   "cell_type": "code",
   "execution_count": null,
   "id": "b0caf348-a354-4045-ae95-8103b7626631",
   "metadata": {},
   "outputs": [],
   "source": []
  },
  {
   "cell_type": "code",
   "execution_count": null,
   "id": "4cb7d453-8407-4a32-8d2a-8af318363ace",
   "metadata": {},
   "outputs": [],
   "source": []
  },
  {
   "cell_type": "markdown",
   "id": "094268df-a97f-4131-91d5-ed02039f9051",
   "metadata": {},
   "source": [
    "# 5. Yeo johnson transformation"
   ]
  },
  {
   "cell_type": "markdown",
   "id": "7e34ec5b-12ce-405b-8f2c-b6c78277be56",
   "metadata": {},
   "source": [
    "#### Modify version of boxcox"
   ]
  },
  {
   "cell_type": "code",
   "execution_count": 59,
   "id": "fb853053-80b0-43b0-874a-a2ed451e14fd",
   "metadata": {},
   "outputs": [],
   "source": [
    "np.random.seed(0)\n",
    "data = {\n",
    "    'A': np.random.exponential(scale=2.0,size=1000),\n",
    "    'B': np.random.chisquare(df=2,size=1000)\n",
    "}\n",
    "df_4 = pd.DataFrame(data)"
   ]
  },
  {
   "cell_type": "code",
   "execution_count": 60,
   "id": "a5a289e6-124e-4560-86d8-ec63b01bf25f",
   "metadata": {},
   "outputs": [
    {
     "data": {
      "text/html": [
       "<div>\n",
       "<style scoped>\n",
       "    .dataframe tbody tr th:only-of-type {\n",
       "        vertical-align: middle;\n",
       "    }\n",
       "\n",
       "    .dataframe tbody tr th {\n",
       "        vertical-align: top;\n",
       "    }\n",
       "\n",
       "    .dataframe thead th {\n",
       "        text-align: right;\n",
       "    }\n",
       "</style>\n",
       "<table border=\"1\" class=\"dataframe\">\n",
       "  <thead>\n",
       "    <tr style=\"text-align: right;\">\n",
       "      <th></th>\n",
       "      <th>A</th>\n",
       "      <th>B</th>\n",
       "    </tr>\n",
       "  </thead>\n",
       "  <tbody>\n",
       "    <tr>\n",
       "      <th>0</th>\n",
       "      <td>1.591749</td>\n",
       "      <td>1.797296</td>\n",
       "    </tr>\n",
       "    <tr>\n",
       "      <th>1</th>\n",
       "      <td>2.511862</td>\n",
       "      <td>0.020229</td>\n",
       "    </tr>\n",
       "    <tr>\n",
       "      <th>2</th>\n",
       "      <td>1.846446</td>\n",
       "      <td>1.291864</td>\n",
       "    </tr>\n",
       "    <tr>\n",
       "      <th>3</th>\n",
       "      <td>1.574402</td>\n",
       "      <td>2.467287</td>\n",
       "    </tr>\n",
       "    <tr>\n",
       "      <th>4</th>\n",
       "      <td>1.102097</td>\n",
       "      <td>0.089943</td>\n",
       "    </tr>\n",
       "    <tr>\n",
       "      <th>...</th>\n",
       "      <td>...</td>\n",
       "      <td>...</td>\n",
       "    </tr>\n",
       "    <tr>\n",
       "      <th>995</th>\n",
       "      <td>0.205564</td>\n",
       "      <td>3.133538</td>\n",
       "    </tr>\n",
       "    <tr>\n",
       "      <th>996</th>\n",
       "      <td>1.446892</td>\n",
       "      <td>2.554508</td>\n",
       "    </tr>\n",
       "    <tr>\n",
       "      <th>997</th>\n",
       "      <td>5.574577</td>\n",
       "      <td>1.308268</td>\n",
       "    </tr>\n",
       "    <tr>\n",
       "      <th>998</th>\n",
       "      <td>0.519217</td>\n",
       "      <td>2.064885</td>\n",
       "    </tr>\n",
       "    <tr>\n",
       "      <th>999</th>\n",
       "      <td>2.261080</td>\n",
       "      <td>1.393399</td>\n",
       "    </tr>\n",
       "  </tbody>\n",
       "</table>\n",
       "<p>1000 rows × 2 columns</p>\n",
       "</div>"
      ],
      "text/plain": [
       "            A         B\n",
       "0    1.591749  1.797296\n",
       "1    2.511862  0.020229\n",
       "2    1.846446  1.291864\n",
       "3    1.574402  2.467287\n",
       "4    1.102097  0.089943\n",
       "..        ...       ...\n",
       "995  0.205564  3.133538\n",
       "996  1.446892  2.554508\n",
       "997  5.574577  1.308268\n",
       "998  0.519217  2.064885\n",
       "999  2.261080  1.393399\n",
       "\n",
       "[1000 rows x 2 columns]"
      ]
     },
     "execution_count": 60,
     "metadata": {},
     "output_type": "execute_result"
    }
   ],
   "source": [
    "df_4"
   ]
  },
  {
   "cell_type": "code",
   "execution_count": 62,
   "id": "3cbde16a-89e5-4787-b934-4987af6f6387",
   "metadata": {},
   "outputs": [
    {
     "name": "stdout",
     "output_type": "stream",
     "text": [
      "2.0526452829685935\n",
      "1.7494418645601095\n"
     ]
    }
   ],
   "source": [
    "print(skew(df_4['A']))\n",
    "print(skew(df_4['B']))"
   ]
  },
  {
   "cell_type": "code",
   "execution_count": 63,
   "id": "1eac93d7-09ba-45a3-b601-423d5993db20",
   "metadata": {},
   "outputs": [
    {
     "data": {
      "image/png": "[encoded data removed]",
      "text/plain": [
       "<Figure size 640x480 with 1 Axes>"
      ]
     },
     "metadata": {},
     "output_type": "display_data"
    }
   ],
   "source": [
    "plt.hist(df_4['A'],bins=30,color='blue',alpha=0.7,edgecolor='black')\n",
    "plt.show()"
   ]
  },
  {
   "cell_type": "code",
   "execution_count": 64,
   "id": "5cf5381a-cfda-4d21-9616-5cbf1a253f69",
   "metadata": {},
   "outputs": [
    {
     "data": {
      "image/png": "[encoded data removed]",
      "text/plain": [
       "<Figure size 640x480 with 1 Axes>"
      ]
     },
     "metadata": {},
     "output_type": "display_data"
    }
   ],
   "source": [
    "plt.hist(df_4['B'],bins=30,color='blue',alpha=0.7,edgecolor='black')\n",
    "plt.show()"
   ]
  },
  {
   "cell_type": "code",
   "execution_count": 65,
   "id": "4a1c0ee9-b975-4cbb-b9df-cb79ffd9e314",
   "metadata": {},
   "outputs": [],
   "source": [
    "from scipy.stats import yeojohnson"
   ]
  },
  {
   "cell_type": "code",
   "execution_count": 66,
   "id": "b6c80ae6-a795-40b8-9e3b-3bdea134f6c4",
   "metadata": {},
   "outputs": [],
   "source": [
    "df_4['trans_A'],lambda_value_a = yeojohnson(df_4['A'])\n",
    "df_4['trans_B'],lambda_value_a = yeojohnson(df_4['B'])"
   ]
  },
  {
   "cell_type": "code",
   "execution_count": 67,
   "id": "105dda77-7138-4730-8663-ae034069926e",
   "metadata": {},
   "outputs": [
    {
     "data": {
      "text/plain": [
       "-0.31872482012617814"
      ]
     },
     "execution_count": 67,
     "metadata": {},
     "output_type": "execute_result"
    }
   ],
   "source": [
    "lambda_value_a"
   ]
  },
  {
   "cell_type": "code",
   "execution_count": 68,
   "id": "1628df97-0c7c-49d0-afcc-0d5247a2de50",
   "metadata": {},
   "outputs": [
    {
     "data": {
      "text/plain": [
       "0.26829917070784687"
      ]
     },
     "execution_count": 68,
     "metadata": {},
     "output_type": "execute_result"
    }
   ],
   "source": [
    "lambda_value_b"
   ]
  },
  {
   "cell_type": "code",
   "execution_count": 69,
   "id": "3c7f5a91-b810-4573-9c77-7eec38b5006b",
   "metadata": {},
   "outputs": [
    {
     "data": {
      "image/png": "[encoded data removed]",
      "text/plain": [
       "<Figure size 640x480 with 1 Axes>"
      ]
     },
     "metadata": {},
     "output_type": "display_data"
    }
   ],
   "source": [
    "plt.hist(df_4['trans_A'],bins=30,color='green',alpha=0.7,edgecolor='black')\n",
    "plt.show()"
   ]
  },
  {
   "cell_type": "code",
   "execution_count": 70,
   "id": "d5cffe78-0020-423b-bdba-9b9503a94f61",
   "metadata": {},
   "outputs": [
    {
     "data": {
      "image/png": "[encoded data removed]",
      "text/plain": [
       "<Figure size 640x480 with 1 Axes>"
      ]
     },
     "metadata": {},
     "output_type": "display_data"
    }
   ],
   "source": [
    "plt.hist(df_4['trans_B'],bins=30,color='green',alpha=0.7,edgecolor='black')\n",
    "plt.show()"
   ]
  },
  {
   "cell_type": "code",
   "execution_count": 71,
   "id": "c31f6c77-316f-4fff-834d-0b6383e818e8",
   "metadata": {},
   "outputs": [
    {
     "data": {
      "text/plain": [
       "0.0746745170544324"
      ]
     },
     "execution_count": 71,
     "metadata": {},
     "output_type": "execute_result"
    }
   ],
   "source": [
    "skew(df_4['trans_A'])"
   ]
  },
  {
   "cell_type": "code",
   "execution_count": 73,
   "id": "32bf3c26-c7c2-43f5-96f1-de496eafd67f",
   "metadata": {},
   "outputs": [
    {
     "data": {
      "text/plain": [
       "0.06143245312398474"
      ]
     },
     "execution_count": 73,
     "metadata": {},
     "output_type": "execute_result"
    }
   ],
   "source": [
    "skew(df_4['trans_B'])"
   ]
  },
  {
   "cell_type": "code",
   "execution_count": null,
   "id": "81da09a3-f0a9-40e0-85e7-716cd490ca99",
   "metadata": {},
   "outputs": [],
   "source": []
  }
 ],
 "metadata": {
  "kernelspec": {
   "display_name": "Python 3 (ipykernel)",
   "language": "python",
   "name": "python3"
  },
  "language_info": {
   "codemirror_mode": {
    "name": "ipython",
    "version": 3
   },
   "file_extension": ".py",
   "mimetype": "text/x-python",
   "name": "python",
   "nbconvert_exporter": "python",
   "pygments_lexer": "ipython3",
   "version": "3.12.3"
  }
 },
 "nbformat": 4,
 "nbformat_minor": 5
}
