{
 "cells": [
  {
   "cell_type": "code",
   "execution_count": 1,
   "id": "11d8aade-ffe8-48f8-8985-1616233cef42",
   "metadata": {},
   "outputs": [],
   "source": [
    "import pandas as pd\n",
    "import seaborn as sns\n",
    "import matplotlib.pyplot as plt\n",
    "from sklearn.model_selection import train_test_split"
   ]
  },
  {
   "cell_type": "code",
   "execution_count": 3,
   "id": "f624f0d6-7208-49f1-a469-dfa585dda9f1",
   "metadata": {},
   "outputs": [
    {
     "data": {
      "text/html": [
       "<div>\n",
       "<style scoped>\n",
       "    .dataframe tbody tr th:only-of-type {\n",
       "        vertical-align: middle;\n",
       "    }\n",
       "\n",
       "    .dataframe tbody tr th {\n",
       "        vertical-align: top;\n",
       "    }\n",
       "\n",
       "    .dataframe thead th {\n",
       "        text-align: right;\n",
       "    }\n",
       "</style>\n",
       "<table border=\"1\" class=\"dataframe\">\n",
       "  <thead>\n",
       "    <tr style=\"text-align: right;\">\n",
       "      <th></th>\n",
       "      <th>Age</th>\n",
       "      <th>EstimatedSalary</th>\n",
       "      <th>Purchased</th>\n",
       "    </tr>\n",
       "  </thead>\n",
       "  <tbody>\n",
       "    <tr>\n",
       "      <th>0</th>\n",
       "      <td>19</td>\n",
       "      <td>19000</td>\n",
       "      <td>0</td>\n",
       "    </tr>\n",
       "    <tr>\n",
       "      <th>1</th>\n",
       "      <td>35</td>\n",
       "      <td>20000</td>\n",
       "      <td>0</td>\n",
       "    </tr>\n",
       "    <tr>\n",
       "      <th>2</th>\n",
       "      <td>26</td>\n",
       "      <td>43000</td>\n",
       "      <td>0</td>\n",
       "    </tr>\n",
       "  </tbody>\n",
       "</table>\n",
       "</div>"
      ],
      "text/plain": [
       "   Age  EstimatedSalary  Purchased\n",
       "0   19            19000          0\n",
       "1   35            20000          0\n",
       "2   26            43000          0"
      ]
     },
     "execution_count": 3,
     "metadata": {},
     "output_type": "execute_result"
    }
   ],
   "source": [
    "dataset = pd.read_csv(r'C:\\Users\\acer\\Desktop\\Python\\Data Science\\Features Engineering\\data\\Social_Network_Ads.csv')\n",
    "dataset=dataset.drop(columns=['User ID','Gender'])\n",
    "dataset.head(3)"
   ]
  },
  {
   "cell_type": "code",
   "execution_count": 4,
   "id": "918dc7a5-638f-495b-a7f9-f2c6f200a86e",
   "metadata": {},
   "outputs": [
    {
     "name": "stdout",
     "output_type": "stream",
     "text": [
      "Age                0\n",
      "EstimatedSalary    0\n",
      "Purchased          0\n",
      "dtype: int64\n",
      "\n",
      "shape =  (400, 3)\n"
     ]
    }
   ],
   "source": [
    "print(dataset.isnull().sum())\n",
    "print('\\nshape = ',dataset.shape)"
   ]
  },
  {
   "cell_type": "code",
   "execution_count": 5,
   "id": "aac617ce-0e04-4b5f-94d1-3595ad7cb725",
   "metadata": {},
   "outputs": [
    {
     "data": {
      "text/plain": [
       "Purchased\n",
       "0    257\n",
       "1    143\n",
       "Name: count, dtype: int64"
      ]
     },
     "execution_count": 5,
     "metadata": {},
     "output_type": "execute_result"
    }
   ],
   "source": [
    "dataset['Purchased'].value_counts()"
   ]
  },
  {
   "cell_type": "code",
   "execution_count": 6,
   "id": "917cc471-85fc-4d76-aa33-f162a2fbeff0",
   "metadata": {},
   "outputs": [],
   "source": [
    "x = dataset.iloc[:,:-1]\n",
    "y = dataset['Purchased']"
   ]
  },
  {
   "cell_type": "code",
   "execution_count": 19,
   "id": "868bd0d6-2ca0-4d5f-8238-a1ad58bd7a75",
   "metadata": {},
   "outputs": [
    {
     "data": {
      "text/plain": [
       "33"
      ]
     },
     "execution_count": 19,
     "metadata": {},
     "output_type": "execute_result"
    }
   ],
   "source": [
    "dataset.duplicated().sum()"
   ]
  },
  {
   "cell_type": "code",
   "execution_count": null,
   "id": "b7b97fbd-f9ab-44a5-9398-08b88495d56c",
   "metadata": {},
   "outputs": [],
   "source": []
  },
  {
   "cell_type": "markdown",
   "id": "cb3f5023-de98-4c2d-8425-5b1cd50ce4d8",
   "metadata": {},
   "source": [
    "# 1. Random OverSampling \n",
    "## # when to use :- \n",
    "#### 1. Smaller Dataset\n",
    "####                2. Highly imbalanced data\n",
    "## # Disadvantage :-\n",
    "####                1. Duplicates values ( ML Algorithm Overfiting )"
   ]
  },
  {
   "cell_type": "code",
   "execution_count": 8,
   "id": "cf1da8bc-17df-44c2-b27b-4c372f33a36b",
   "metadata": {},
   "outputs": [],
   "source": [
    "from imblearn.over_sampling import RandomOverSampler"
   ]
  },
  {
   "cell_type": "code",
   "execution_count": 9,
   "id": "e7f43dce-13e6-4fb2-b4a8-31b33118893c",
   "metadata": {},
   "outputs": [],
   "source": [
    "ro = RandomOverSampler()"
   ]
  },
  {
   "cell_type": "code",
   "execution_count": 10,
   "id": "c24be40c-dfae-4705-8581-f4b65568050c",
   "metadata": {},
   "outputs": [],
   "source": [
    "ro_x,ro_y=ro.fit_resample(x,y)"
   ]
  },
  {
   "cell_type": "code",
   "execution_count": 14,
   "id": "63421d32-53ec-4a28-87f9-ec5445e854b9",
   "metadata": {},
   "outputs": [],
   "source": [
    "ros_data = pd.DataFrame(ro_x,columns=['Age','EstimatedSalary'])"
   ]
  },
  {
   "cell_type": "code",
   "execution_count": 27,
   "id": "4b034969-4144-45e2-9546-267579cc42bc",
   "metadata": {},
   "outputs": [],
   "source": [
    "ros_data['Purchased'] = ro_y"
   ]
  },
  {
   "cell_type": "code",
   "execution_count": 16,
   "id": "8d3f0e56-fa98-40f3-ba08-57997d8a1e42",
   "metadata": {},
   "outputs": [
    {
     "data": {
      "text/plain": [
       "Purchased\n",
       "0    257\n",
       "1    257\n",
       "Name: count, dtype: int64"
      ]
     },
     "execution_count": 16,
     "metadata": {},
     "output_type": "execute_result"
    }
   ],
   "source": [
    "ros_data['Purchased'].value_counts()"
   ]
  },
  {
   "cell_type": "code",
   "execution_count": 18,
   "id": "8ce469a6-5e2e-4ebd-bede-590510f3f0d9",
   "metadata": {},
   "outputs": [
    {
     "data": {
      "text/plain": [
       "147"
      ]
     },
     "execution_count": 18,
     "metadata": {},
     "output_type": "execute_result"
    }
   ],
   "source": [
    "ros_data.duplicated().sum()"
   ]
  },
  {
   "cell_type": "code",
   "execution_count": 20,
   "id": "1c799a46-5372-43f9-8ade-fc67a22bd360",
   "metadata": {},
   "outputs": [
    {
     "data": {
      "text/plain": [
       "(514, 3)"
      ]
     },
     "execution_count": 20,
     "metadata": {},
     "output_type": "execute_result"
    }
   ],
   "source": [
    "ros_data.shape"
   ]
  },
  {
   "cell_type": "code",
   "execution_count": null,
   "id": "b027a9d6-264d-4d06-b70a-a8158687c8e0",
   "metadata": {},
   "outputs": [],
   "source": []
  },
  {
   "cell_type": "markdown",
   "id": "43c22e62-a217-4b61-8927-42b96d42fcab",
   "metadata": {},
   "source": [
    "# 2. SMOTE( Synthetic minority Oversampling Techinique )\n",
    "## # when to use :- \n",
    "#### 1. Smaller Dataset\n",
    "####                2. Highly imbalanced data"
   ]
  },
  {
   "cell_type": "code",
   "execution_count": 21,
   "id": "a116d374-2f86-4f0e-aa19-927b0f769741",
   "metadata": {},
   "outputs": [],
   "source": [
    "from imblearn.over_sampling import SMOTE"
   ]
  },
  {
   "cell_type": "code",
   "execution_count": 22,
   "id": "08d7e3fd-8e1c-423d-9791-ecc391bf7fa6",
   "metadata": {},
   "outputs": [],
   "source": [
    "smote = SMOTE(random_state=42)"
   ]
  },
  {
   "cell_type": "code",
   "execution_count": 23,
   "id": "eb25144f-c141-4a33-b772-d839db72e891",
   "metadata": {},
   "outputs": [],
   "source": [
    "x_smo,y_smo = smote.fit_resample(x,y)"
   ]
  },
  {
   "cell_type": "code",
   "execution_count": 25,
   "id": "368c7f2a-56b1-4bce-a283-0296765e1cbf",
   "metadata": {},
   "outputs": [],
   "source": [
    "smo_data = pd.DataFrame(x_smo,columns=['Age','EstimatedSalary'])"
   ]
  },
  {
   "cell_type": "code",
   "execution_count": 28,
   "id": "6205d709-ba4c-4db4-a6cc-4075f9674e1e",
   "metadata": {},
   "outputs": [],
   "source": [
    "smo_data['Purchased'] = y_smo"
   ]
  },
  {
   "cell_type": "code",
   "execution_count": 29,
   "id": "98a71f35-f083-4546-be54-912600e2220a",
   "metadata": {},
   "outputs": [
    {
     "data": {
      "text/html": [
       "<div>\n",
       "<style scoped>\n",
       "    .dataframe tbody tr th:only-of-type {\n",
       "        vertical-align: middle;\n",
       "    }\n",
       "\n",
       "    .dataframe tbody tr th {\n",
       "        vertical-align: top;\n",
       "    }\n",
       "\n",
       "    .dataframe thead th {\n",
       "        text-align: right;\n",
       "    }\n",
       "</style>\n",
       "<table border=\"1\" class=\"dataframe\">\n",
       "  <thead>\n",
       "    <tr style=\"text-align: right;\">\n",
       "      <th></th>\n",
       "      <th>Age</th>\n",
       "      <th>EstimatedSalary</th>\n",
       "      <th>Purchased</th>\n",
       "    </tr>\n",
       "  </thead>\n",
       "  <tbody>\n",
       "    <tr>\n",
       "      <th>0</th>\n",
       "      <td>19</td>\n",
       "      <td>19000</td>\n",
       "      <td>0</td>\n",
       "    </tr>\n",
       "    <tr>\n",
       "      <th>1</th>\n",
       "      <td>35</td>\n",
       "      <td>20000</td>\n",
       "      <td>0</td>\n",
       "    </tr>\n",
       "    <tr>\n",
       "      <th>2</th>\n",
       "      <td>26</td>\n",
       "      <td>43000</td>\n",
       "      <td>0</td>\n",
       "    </tr>\n",
       "    <tr>\n",
       "      <th>3</th>\n",
       "      <td>27</td>\n",
       "      <td>57000</td>\n",
       "      <td>0</td>\n",
       "    </tr>\n",
       "    <tr>\n",
       "      <th>4</th>\n",
       "      <td>19</td>\n",
       "      <td>76000</td>\n",
       "      <td>0</td>\n",
       "    </tr>\n",
       "  </tbody>\n",
       "</table>\n",
       "</div>"
      ],
      "text/plain": [
       "   Age  EstimatedSalary  Purchased\n",
       "0   19            19000          0\n",
       "1   35            20000          0\n",
       "2   26            43000          0\n",
       "3   27            57000          0\n",
       "4   19            76000          0"
      ]
     },
     "execution_count": 29,
     "metadata": {},
     "output_type": "execute_result"
    }
   ],
   "source": [
    "smo_data.head()"
   ]
  },
  {
   "cell_type": "code",
   "execution_count": 30,
   "id": "3f8e052b-84b5-4ebc-af94-5049c04da715",
   "metadata": {},
   "outputs": [
    {
     "data": {
      "text/plain": [
       "43"
      ]
     },
     "execution_count": 30,
     "metadata": {},
     "output_type": "execute_result"
    }
   ],
   "source": [
    "smo_data.duplicated().sum()"
   ]
  },
  {
   "cell_type": "code",
   "execution_count": 31,
   "id": "79bd44dc-f742-4798-a6cf-9764fed0f511",
   "metadata": {},
   "outputs": [
    {
     "data": {
      "text/plain": [
       "(514, 3)"
      ]
     },
     "execution_count": 31,
     "metadata": {},
     "output_type": "execute_result"
    }
   ],
   "source": [
    "smo_data.shape"
   ]
  },
  {
   "cell_type": "code",
   "execution_count": 32,
   "id": "58b43473-101b-431e-8a84-2a2d964126cc",
   "metadata": {},
   "outputs": [
    {
     "data": {
      "text/plain": [
       "Purchased\n",
       "0    257\n",
       "1    257\n",
       "Name: count, dtype: int64"
      ]
     },
     "execution_count": 32,
     "metadata": {},
     "output_type": "execute_result"
    }
   ],
   "source": [
    "smo_data['Purchased'].value_counts()"
   ]
  },
  {
   "cell_type": "code",
   "execution_count": null,
   "id": "ae5202b2-11a1-4d00-ad13-92d538f7a4dc",
   "metadata": {},
   "outputs": [],
   "source": []
  },
  {
   "cell_type": "markdown",
   "id": "2e5ddb6c-6566-4f7f-8c3c-ad9862dd95f1",
   "metadata": {},
   "source": [
    "# 3. Random UnderSapmling\n",
    "### when to use :-\n",
    "#### 1. Big Dataset / Largest Dataset\n",
    "### Disadvantage:- loss of data"
   ]
  },
  {
   "cell_type": "code",
   "execution_count": 33,
   "id": "721dc108-4959-48b4-a310-dce72a4484d2",
   "metadata": {},
   "outputs": [],
   "source": [
    "from imblearn.under_sampling import RandomUnderSampler"
   ]
  },
  {
   "cell_type": "code",
   "execution_count": 34,
   "id": "81d11719-02f1-49bf-a511-7a2fb5d9304f",
   "metadata": {},
   "outputs": [],
   "source": [
    "ru = RandomUnderSampler()"
   ]
  },
  {
   "cell_type": "code",
   "execution_count": 35,
   "id": "d796f554-1d06-48c4-be10-5bdeb4979e30",
   "metadata": {},
   "outputs": [],
   "source": [
    "ru_x,ru_y=ru.fit_resample(x,y)"
   ]
  },
  {
   "cell_type": "code",
   "execution_count": 36,
   "id": "6d892df4-7e7a-4b14-b009-c2d561106420",
   "metadata": {},
   "outputs": [
    {
     "data": {
      "text/plain": [
       "Purchased\n",
       "0    143\n",
       "1    143\n",
       "Name: count, dtype: int64"
      ]
     },
     "execution_count": 36,
     "metadata": {},
     "output_type": "execute_result"
    }
   ],
   "source": [
    "ru_y.value_counts()"
   ]
  },
  {
   "cell_type": "code",
   "execution_count": null,
   "id": "7315bda0-814b-490e-9225-ed746ed6df32",
   "metadata": {},
   "outputs": [],
   "source": []
  }
 ],
 "metadata": {
  "kernelspec": {
   "display_name": "Python 3 (ipykernel)",
   "language": "python",
   "name": "python3"
  },
  "language_info": {
   "codemirror_mode": {
    "name": "ipython",
    "version": 3
   },
   "file_extension": ".py",
   "mimetype": "text/x-python",
   "name": "python",
   "nbconvert_exporter": "python",
   "pygments_lexer": "ipython3",
   "version": "3.12.3"
  }
 },
 "nbformat": 4,
 "nbformat_minor": 5
}
