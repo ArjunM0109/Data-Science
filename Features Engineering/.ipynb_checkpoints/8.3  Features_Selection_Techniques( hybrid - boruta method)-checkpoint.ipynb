{
 "cells": [
  {
   "cell_type": "code",
   "execution_count": 1,
   "id": "31f2205b-1cf8-4834-92e8-2ae99c21ff9c",
   "metadata": {},
   "outputs": [],
   "source": [
    "import pandas as pd\n",
    "import numpy as np"
   ]
  },
  {
   "cell_type": "code",
   "execution_count": 2,
   "id": "4f23c9d3-40ef-45f1-a3ad-0f4c1ee7cb30",
   "metadata": {},
   "outputs": [],
   "source": [
    "from sklearn.datasets import load_breast_cancer"
   ]
  },
  {
   "cell_type": "code",
   "execution_count": 3,
   "id": "9a1526f8-fc8a-4e7f-9958-715ce496d331",
   "metadata": {},
   "outputs": [],
   "source": [
    "data = load_breast_cancer()\n",
    "df = pd.DataFrame(data.data, columns=data.feature_names)\n",
    "df['target'] = data.target"
   ]
  },
  {
   "cell_type": "code",
   "execution_count": 4,
   "id": "e09990bd-7cc6-4f5d-bff5-e8cfb8822d05",
   "metadata": {},
   "outputs": [],
   "source": [
    "x = df.drop('target', axis=1)\n",
    "y = df['target']\n",
    "feature_names = df.drop('target', axis=1).columns"
   ]
  },
  {
   "cell_type": "code",
   "execution_count": 5,
   "id": "f66c8403-956a-4b45-985f-6f8004ee5e2d",
   "metadata": {},
   "outputs": [],
   "source": [
    "from boruta import BorutaPy\n",
    "from sklearn.ensemble import RandomForestClassifier"
   ]
  },
  {
   "cell_type": "code",
   "execution_count": 6,
   "id": "f0d5127e-dbf7-4b2a-a9a9-d5922b16fc32",
   "metadata": {},
   "outputs": [],
   "source": [
    "rf_classifier = RandomForestClassifier(n_estimators=100,random_state=42)\n",
    "boruta_selector = BorutaPy(rf_classifier, n_estimators=1000,random_state=42,verbose=0)"
   ]
  },
  {
   "cell_type": "code",
   "execution_count": 7,
   "id": "5dfa2035-c45d-41df-8f55-5bacd51ea3f4",
   "metadata": {},
   "outputs": [
    {
     "name": "stdout",
     "output_type": "stream",
     "text": [
      "Error occurring during Boruta fitting: module 'numpy' has no attribute 'int'.\n",
      "`np.int` was a deprecated alias for the builtin `int`. To avoid this error in existing code, use `int` by itself. Doing this will not modify any behavior and is safe. When replacing `np.int`, you may wish to use e.g. `np.int64` or `np.int32` to specify the precision. If you wish to review your current use, check the release note link for additional information.\n",
      "The aliases was originally deprecated in NumPy 1.20; for more details and guidance see the original release note at:\n",
      "    https://numpy.org/devdocs/release/1.20.0-notes.html#deprecations\n"
     ]
    }
   ],
   "source": [
    "try:\n",
    "    boruta_selector.fit(x, y)\n",
    "except Exception as e:\n",
    "    print(f\"Error occurring during Boruta fitting: {e}\")"
   ]
  },
  {
   "cell_type": "code",
   "execution_count": 8,
   "id": "28c18ec9-6ac4-4ae5-9fe1-352280ad7aac",
   "metadata": {},
   "outputs": [
    {
     "ename": "AttributeError",
     "evalue": "'BorutaPy' object has no attribute 'support_'",
     "output_type": "error",
     "traceback": [
      "\u001b[1;31m---------------------------------------------------------------------------\u001b[0m",
      "\u001b[1;31mAttributeError\u001b[0m                            Traceback (most recent call last)",
      "Cell \u001b[1;32mIn[8], line 1\u001b[0m\n\u001b[1;32m----> 1\u001b[0m selected_features \u001b[38;5;241m=\u001b[39m np\u001b[38;5;241m.\u001b[39marray(feature_names)[\u001b[43mboruta_selector\u001b[49m\u001b[38;5;241;43m.\u001b[39;49m\u001b[43msupport_\u001b[49m]\n",
      "\u001b[1;31mAttributeError\u001b[0m: 'BorutaPy' object has no attribute 'support_'"
     ]
    }
   ],
   "source": [
    "selected_features = np.array(feature_names)[boruta_selector.support_]"
   ]
  },
  {
   "cell_type": "code",
   "execution_count": null,
   "id": "4268bdc2-d2ce-4995-9bd3-e815e6cf0cba",
   "metadata": {},
   "outputs": [],
   "source": [
    "selected_features"
   ]
  },
  {
   "cell_type": "code",
   "execution_count": null,
   "id": "9709ee4e-78e7-4404-9ec2-940f12d50030",
   "metadata": {},
   "outputs": [],
   "source": [
    "new_df = df[selected_features]\n",
    "new_df['target'] = df['target']"
   ]
  },
  {
   "cell_type": "code",
   "execution_count": null,
   "id": "8b2f765b-03b9-42ec-93ef-8546151890b8",
   "metadata": {},
   "outputs": [],
   "source": []
  }
 ],
 "metadata": {
  "kernelspec": {
   "display_name": "Python 3 (ipykernel)",
   "language": "python",
   "name": "python3"
  },
  "language_info": {
   "codemirror_mode": {
    "name": "ipython",
    "version": 3
   },
   "file_extension": ".py",
   "mimetype": "text/x-python",
   "name": "python",
   "nbconvert_exporter": "python",
   "pygments_lexer": "ipython3",
   "version": "3.12.3"
  }
 },
 "nbformat": 4,
 "nbformat_minor": 5
}
