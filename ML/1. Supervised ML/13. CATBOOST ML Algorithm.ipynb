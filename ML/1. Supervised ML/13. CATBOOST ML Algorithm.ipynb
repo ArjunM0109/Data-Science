{
 "cells": [
  {
   "cell_type": "code",
   "execution_count": 3,
   "id": "e77f82ca-5d36-4d27-9a69-03f4398e00bb",
   "metadata": {},
   "outputs": [],
   "source": [
    "import pandas as pd\n",
    "import numpy as np\n",
    "from catboost import CatBoostRegressor, Pool\n",
    "\n",
    "import shap\n",
    "\n",
    "import seaborn as sns\n",
    "diamonds = sns.load_dataset('diamonds')"
   ]
  },
  {
   "cell_type": "code",
   "execution_count": 4,
   "id": "9444efee-9239-449f-8d62-77dd27a353ff",
   "metadata": {},
   "outputs": [],
   "source": [
    "df = pd.DataFrame(diamonds)"
   ]
  },
  {
   "cell_type": "code",
   "execution_count": 5,
   "id": "0c541c25-ccea-459d-aaaf-457eb2f66e5d",
   "metadata": {},
   "outputs": [
    {
     "data": {
      "text/html": [
       "<div>\n",
       "<style scoped>\n",
       "    .dataframe tbody tr th:only-of-type {\n",
       "        vertical-align: middle;\n",
       "    }\n",
       "\n",
       "    .dataframe tbody tr th {\n",
       "        vertical-align: top;\n",
       "    }\n",
       "\n",
       "    .dataframe thead th {\n",
       "        text-align: right;\n",
       "    }\n",
       "</style>\n",
       "<table border=\"1\" class=\"dataframe\">\n",
       "  <thead>\n",
       "    <tr style=\"text-align: right;\">\n",
       "      <th></th>\n",
       "      <th>carat</th>\n",
       "      <th>cut</th>\n",
       "      <th>color</th>\n",
       "      <th>clarity</th>\n",
       "      <th>depth</th>\n",
       "      <th>table</th>\n",
       "      <th>price</th>\n",
       "      <th>x</th>\n",
       "      <th>y</th>\n",
       "      <th>z</th>\n",
       "    </tr>\n",
       "  </thead>\n",
       "  <tbody>\n",
       "    <tr>\n",
       "      <th>0</th>\n",
       "      <td>0.23</td>\n",
       "      <td>Ideal</td>\n",
       "      <td>E</td>\n",
       "      <td>SI2</td>\n",
       "      <td>61.5</td>\n",
       "      <td>55.0</td>\n",
       "      <td>326</td>\n",
       "      <td>3.95</td>\n",
       "      <td>3.98</td>\n",
       "      <td>2.43</td>\n",
       "    </tr>\n",
       "    <tr>\n",
       "      <th>1</th>\n",
       "      <td>0.21</td>\n",
       "      <td>Premium</td>\n",
       "      <td>E</td>\n",
       "      <td>SI1</td>\n",
       "      <td>59.8</td>\n",
       "      <td>61.0</td>\n",
       "      <td>326</td>\n",
       "      <td>3.89</td>\n",
       "      <td>3.84</td>\n",
       "      <td>2.31</td>\n",
       "    </tr>\n",
       "    <tr>\n",
       "      <th>2</th>\n",
       "      <td>0.23</td>\n",
       "      <td>Good</td>\n",
       "      <td>E</td>\n",
       "      <td>VS1</td>\n",
       "      <td>56.9</td>\n",
       "      <td>65.0</td>\n",
       "      <td>327</td>\n",
       "      <td>4.05</td>\n",
       "      <td>4.07</td>\n",
       "      <td>2.31</td>\n",
       "    </tr>\n",
       "    <tr>\n",
       "      <th>3</th>\n",
       "      <td>0.29</td>\n",
       "      <td>Premium</td>\n",
       "      <td>I</td>\n",
       "      <td>VS2</td>\n",
       "      <td>62.4</td>\n",
       "      <td>58.0</td>\n",
       "      <td>334</td>\n",
       "      <td>4.20</td>\n",
       "      <td>4.23</td>\n",
       "      <td>2.63</td>\n",
       "    </tr>\n",
       "    <tr>\n",
       "      <th>4</th>\n",
       "      <td>0.31</td>\n",
       "      <td>Good</td>\n",
       "      <td>J</td>\n",
       "      <td>SI2</td>\n",
       "      <td>63.3</td>\n",
       "      <td>58.0</td>\n",
       "      <td>335</td>\n",
       "      <td>4.34</td>\n",
       "      <td>4.35</td>\n",
       "      <td>2.75</td>\n",
       "    </tr>\n",
       "  </tbody>\n",
       "</table>\n",
       "</div>"
      ],
      "text/plain": [
       "   carat      cut color clarity  depth  table  price     x     y     z\n",
       "0   0.23    Ideal     E     SI2   61.5   55.0    326  3.95  3.98  2.43\n",
       "1   0.21  Premium     E     SI1   59.8   61.0    326  3.89  3.84  2.31\n",
       "2   0.23     Good     E     VS1   56.9   65.0    327  4.05  4.07  2.31\n",
       "3   0.29  Premium     I     VS2   62.4   58.0    334  4.20  4.23  2.63\n",
       "4   0.31     Good     J     SI2   63.3   58.0    335  4.34  4.35  2.75"
      ]
     },
     "execution_count": 5,
     "metadata": {},
     "output_type": "execute_result"
    }
   ],
   "source": [
    "df.head()"
   ]
  },
  {
   "cell_type": "code",
   "execution_count": 6,
   "id": "7050be05-f080-4f5a-9e51-a2a23cc18690",
   "metadata": {},
   "outputs": [
    {
     "data": {
      "text/plain": [
       "carat       float64\n",
       "cut        category\n",
       "color      category\n",
       "clarity    category\n",
       "depth       float64\n",
       "table       float64\n",
       "price         int64\n",
       "x           float64\n",
       "y           float64\n",
       "z           float64\n",
       "dtype: object"
      ]
     },
     "execution_count": 6,
     "metadata": {},
     "output_type": "execute_result"
    }
   ],
   "source": [
    "df.dtypes"
   ]
  },
  {
   "cell_type": "code",
   "execution_count": 7,
   "id": "57009330-caf7-4e8b-a89c-57d1551da8ff",
   "metadata": {},
   "outputs": [],
   "source": [
    "for col in df.select_dtypes(include=['object']).columns:\n",
    "    df[col] = df[col].astype('category')"
   ]
  },
  {
   "cell_type": "code",
   "execution_count": 8,
   "id": "c30b3c29-535d-4052-9454-5bc6e165f93c",
   "metadata": {},
   "outputs": [
    {
     "data": {
      "text/plain": [
       "carat       float64\n",
       "cut        category\n",
       "color      category\n",
       "clarity    category\n",
       "depth       float64\n",
       "table       float64\n",
       "price         int64\n",
       "x           float64\n",
       "y           float64\n",
       "z           float64\n",
       "dtype: object"
      ]
     },
     "execution_count": 8,
     "metadata": {},
     "output_type": "execute_result"
    }
   ],
   "source": [
    "df.dtypes"
   ]
  },
  {
   "cell_type": "code",
   "execution_count": 9,
   "id": "17dac9f3-7947-42f2-8f75-125102490b4b",
   "metadata": {},
   "outputs": [],
   "source": [
    "X = df.drop(['price'], axis=1)\n",
    "y = df['price']"
   ]
  },
  {
   "cell_type": "code",
   "execution_count": 10,
   "id": "a328d30d-1b40-4f79-9ec7-9663fc6f6ab4",
   "metadata": {},
   "outputs": [
    {
     "data": {
      "text/html": [
       "<div>\n",
       "<style scoped>\n",
       "    .dataframe tbody tr th:only-of-type {\n",
       "        vertical-align: middle;\n",
       "    }\n",
       "\n",
       "    .dataframe tbody tr th {\n",
       "        vertical-align: top;\n",
       "    }\n",
       "\n",
       "    .dataframe thead th {\n",
       "        text-align: right;\n",
       "    }\n",
       "</style>\n",
       "<table border=\"1\" class=\"dataframe\">\n",
       "  <thead>\n",
       "    <tr style=\"text-align: right;\">\n",
       "      <th></th>\n",
       "      <th>carat</th>\n",
       "      <th>cut</th>\n",
       "      <th>color</th>\n",
       "      <th>clarity</th>\n",
       "      <th>depth</th>\n",
       "      <th>table</th>\n",
       "      <th>x</th>\n",
       "      <th>y</th>\n",
       "      <th>z</th>\n",
       "    </tr>\n",
       "  </thead>\n",
       "  <tbody>\n",
       "    <tr>\n",
       "      <th>0</th>\n",
       "      <td>0.23</td>\n",
       "      <td>Ideal</td>\n",
       "      <td>E</td>\n",
       "      <td>SI2</td>\n",
       "      <td>61.5</td>\n",
       "      <td>55.0</td>\n",
       "      <td>3.95</td>\n",
       "      <td>3.98</td>\n",
       "      <td>2.43</td>\n",
       "    </tr>\n",
       "  </tbody>\n",
       "</table>\n",
       "</div>"
      ],
      "text/plain": [
       "   carat    cut color clarity  depth  table     x     y     z\n",
       "0   0.23  Ideal     E     SI2   61.5   55.0  3.95  3.98  2.43"
      ]
     },
     "execution_count": 10,
     "metadata": {},
     "output_type": "execute_result"
    }
   ],
   "source": [
    "X.head(1)"
   ]
  },
  {
   "cell_type": "code",
   "execution_count": 11,
   "id": "1dc7cbfd-774d-48c8-afea-f6492a2096d9",
   "metadata": {},
   "outputs": [],
   "source": [
    "cat_features = X.select_dtypes(include=['category']).columns.tolist()"
   ]
  },
  {
   "cell_type": "code",
   "execution_count": 12,
   "id": "df36b75b-25a7-4e8a-b986-747da5419942",
   "metadata": {},
   "outputs": [
    {
     "data": {
      "text/plain": [
       "['cut', 'color', 'clarity']"
      ]
     },
     "execution_count": 12,
     "metadata": {},
     "output_type": "execute_result"
    }
   ],
   "source": [
    "cat_features"
   ]
  },
  {
   "cell_type": "code",
   "execution_count": 13,
   "id": "d649721a-7d2e-441a-a084-74a93ba8d4b4",
   "metadata": {},
   "outputs": [],
   "source": [
    "from sklearn.model_selection import train_test_split\n",
    "X_train, X_test, y_train, y_test = train_test_split(X, y, test_size=0.2, random_state=42)"
   ]
  },
  {
   "cell_type": "code",
   "execution_count": 14,
   "id": "b533892b-8f30-4e03-961a-a08d44f92ddf",
   "metadata": {},
   "outputs": [],
   "source": [
    "model = CatBoostRegressor(iterations=100, learning_rate=0.1, depth=6)"
   ]
  },
  {
   "cell_type": "code",
   "execution_count": 15,
   "id": "2d785a3f-8f8d-422b-8b24-8d672f396283",
   "metadata": {},
   "outputs": [
    {
     "data": {
      "application/vnd.jupyter.widget-view+json": {
       "model_id": "2d0313db95664056893dbc535b2e42cc",
       "version_major": 2,
       "version_minor": 0
      },
      "text/plain": [
       "MetricVisualizer(layout=Layout(align_self='stretch', height='500px'))"
      ]
     },
     "metadata": {},
     "output_type": "display_data"
    },
    {
     "name": "stdout",
     "output_type": "stream",
     "text": [
      "0:\tlearn: 3651.6706669\ttest: 3645.2886484\tbest: 3645.2886484 (0)\ttotal: 524ms\tremaining: 51.9s\n",
      "1:\tlearn: 3351.6387912\ttest: 3342.6818053\tbest: 3342.6818053 (1)\ttotal: 595ms\tremaining: 29.2s\n",
      "2:\tlearn: 3086.4665738\ttest: 3076.4726785\tbest: 3076.4726785 (2)\ttotal: 668ms\tremaining: 21.6s\n",
      "3:\tlearn: 2849.3823989\ttest: 2837.3096937\tbest: 2837.3096937 (3)\ttotal: 737ms\tremaining: 17.7s\n",
      "4:\tlearn: 2643.6706918\ttest: 2630.7350719\tbest: 2630.7350719 (4)\ttotal: 798ms\tremaining: 15.2s\n",
      "5:\tlearn: 2462.9508874\ttest: 2448.7444734\tbest: 2448.7444734 (5)\ttotal: 849ms\tremaining: 13.3s\n",
      "6:\tlearn: 2303.5463482\ttest: 2290.0140823\tbest: 2290.0140823 (6)\ttotal: 900ms\tremaining: 12s\n",
      "7:\tlearn: 2164.7635973\ttest: 2150.7064600\tbest: 2150.7064600 (7)\ttotal: 939ms\tremaining: 10.8s\n",
      "8:\tlearn: 2044.6875347\ttest: 2030.5460192\tbest: 2030.5460192 (8)\ttotal: 986ms\tremaining: 9.96s\n",
      "9:\tlearn: 1941.3994840\ttest: 1926.1901799\tbest: 1926.1901799 (9)\ttotal: 1.03s\tremaining: 9.23s\n",
      "10:\tlearn: 1852.1955188\ttest: 1837.2908977\tbest: 1837.2908977 (10)\ttotal: 1.07s\tremaining: 8.67s\n",
      "11:\tlearn: 1777.1954951\ttest: 1762.9525006\tbest: 1762.9525006 (11)\ttotal: 1.12s\tremaining: 8.2s\n",
      "12:\tlearn: 1711.9895274\ttest: 1697.3743241\tbest: 1697.3743241 (12)\ttotal: 1.17s\tremaining: 7.82s\n",
      "13:\tlearn: 1656.9810454\ttest: 1642.7313400\tbest: 1642.7313400 (13)\ttotal: 1.25s\tremaining: 7.69s\n",
      "14:\tlearn: 1610.1006351\ttest: 1595.9673671\tbest: 1595.9673671 (14)\ttotal: 1.3s\tremaining: 7.39s\n",
      "15:\tlearn: 1570.3088586\ttest: 1556.2515169\tbest: 1556.2515169 (15)\ttotal: 1.35s\tremaining: 7.09s\n",
      "16:\tlearn: 1538.0941564\ttest: 1524.9934410\tbest: 1524.9934410 (16)\ttotal: 1.4s\tremaining: 6.82s\n",
      "17:\tlearn: 1463.6539793\ttest: 1452.0532708\tbest: 1452.0532708 (17)\ttotal: 1.44s\tremaining: 6.57s\n",
      "18:\tlearn: 1401.2261191\ttest: 1392.4486405\tbest: 1392.4486405 (18)\ttotal: 1.49s\tremaining: 6.34s\n",
      "19:\tlearn: 1346.1846816\ttest: 1338.7170385\tbest: 1338.7170385 (19)\ttotal: 1.53s\tremaining: 6.11s\n",
      "20:\tlearn: 1299.2663796\ttest: 1292.7375892\tbest: 1292.7375892 (20)\ttotal: 1.56s\tremaining: 5.89s\n",
      "21:\tlearn: 1259.8740233\ttest: 1254.3446186\tbest: 1254.3446186 (21)\ttotal: 1.61s\tremaining: 5.7s\n",
      "22:\tlearn: 1226.1631765\ttest: 1221.1670144\tbest: 1221.1670144 (22)\ttotal: 1.65s\tremaining: 5.51s\n",
      "23:\tlearn: 1171.5827348\ttest: 1164.8088633\tbest: 1164.8088633 (23)\ttotal: 1.69s\tremaining: 5.34s\n",
      "24:\tlearn: 1120.7923967\ttest: 1112.6899607\tbest: 1112.6899607 (24)\ttotal: 1.73s\tremaining: 5.18s\n",
      "25:\tlearn: 1079.2344334\ttest: 1069.3049842\tbest: 1069.3049842 (25)\ttotal: 1.77s\tremaining: 5.03s\n",
      "26:\tlearn: 1043.9950733\ttest: 1035.8552358\tbest: 1035.8552358 (26)\ttotal: 1.81s\tremaining: 4.89s\n",
      "27:\tlearn: 1010.1289807\ttest: 1003.0839244\tbest: 1003.0839244 (27)\ttotal: 1.85s\tremaining: 4.76s\n",
      "28:\tlearn: 981.7544681\ttest: 973.7165133\tbest: 973.7165133 (28)\ttotal: 1.89s\tremaining: 4.63s\n",
      "29:\tlearn: 957.8929718\ttest: 946.2287763\tbest: 946.2287763 (29)\ttotal: 1.93s\tremaining: 4.51s\n",
      "30:\tlearn: 935.3461837\ttest: 922.9917488\tbest: 922.9917488 (30)\ttotal: 1.98s\tremaining: 4.4s\n",
      "31:\tlearn: 916.0869283\ttest: 901.9900470\tbest: 901.9900470 (31)\ttotal: 2.02s\tremaining: 4.3s\n",
      "32:\tlearn: 888.7177581\ttest: 874.4754548\tbest: 874.4754548 (32)\ttotal: 2.06s\tremaining: 4.19s\n",
      "33:\tlearn: 866.0980967\ttest: 851.6843729\tbest: 851.6843729 (33)\ttotal: 2.11s\tremaining: 4.1s\n",
      "34:\tlearn: 847.4346188\ttest: 831.2918784\tbest: 831.2918784 (34)\ttotal: 2.15s\tremaining: 4s\n",
      "35:\tlearn: 829.8801664\ttest: 812.7661049\tbest: 812.7661049 (35)\ttotal: 2.19s\tremaining: 3.9s\n",
      "36:\tlearn: 815.4348621\ttest: 797.8295066\tbest: 797.8295066 (36)\ttotal: 2.23s\tremaining: 3.8s\n",
      "37:\tlearn: 801.2785727\ttest: 784.0030689\tbest: 784.0030689 (37)\ttotal: 2.27s\tremaining: 3.71s\n",
      "38:\tlearn: 783.2423979\ttest: 766.0353402\tbest: 766.0353402 (38)\ttotal: 2.31s\tremaining: 3.62s\n",
      "39:\tlearn: 770.4511500\ttest: 752.8179760\tbest: 752.8179760 (39)\ttotal: 2.36s\tremaining: 3.54s\n",
      "40:\tlearn: 758.7291314\ttest: 741.1789669\tbest: 741.1789669 (40)\ttotal: 2.41s\tremaining: 3.46s\n",
      "41:\tlearn: 745.8700050\ttest: 729.4349014\tbest: 729.4349014 (41)\ttotal: 2.45s\tremaining: 3.38s\n",
      "42:\tlearn: 734.0047626\ttest: 717.7152137\tbest: 717.7152137 (42)\ttotal: 2.49s\tremaining: 3.3s\n",
      "43:\tlearn: 725.4386715\ttest: 709.5736449\tbest: 709.5736449 (43)\ttotal: 2.54s\tremaining: 3.23s\n",
      "44:\tlearn: 715.8539271\ttest: 700.4250325\tbest: 700.4250325 (44)\ttotal: 2.58s\tremaining: 3.15s\n",
      "45:\tlearn: 708.1521148\ttest: 692.3380295\tbest: 692.3380295 (45)\ttotal: 2.62s\tremaining: 3.08s\n",
      "46:\tlearn: 698.2547539\ttest: 682.8566277\tbest: 682.8566277 (46)\ttotal: 2.7s\tremaining: 3.04s\n",
      "47:\tlearn: 691.4396983\ttest: 676.0649960\tbest: 676.0649960 (47)\ttotal: 2.77s\tremaining: 3s\n",
      "48:\tlearn: 685.7490155\ttest: 669.5801354\tbest: 669.5801354 (48)\ttotal: 2.85s\tremaining: 2.96s\n",
      "49:\tlearn: 680.7021410\ttest: 664.5592090\tbest: 664.5592090 (49)\ttotal: 2.92s\tremaining: 2.92s\n",
      "50:\tlearn: 677.0090150\ttest: 660.9776538\tbest: 660.9776538 (50)\ttotal: 2.99s\tremaining: 2.88s\n",
      "51:\tlearn: 671.8207546\ttest: 656.6265868\tbest: 656.6265868 (51)\ttotal: 3.07s\tremaining: 2.83s\n",
      "52:\tlearn: 667.8412356\ttest: 652.2578231\tbest: 652.2578231 (52)\ttotal: 3.14s\tremaining: 2.79s\n",
      "53:\tlearn: 665.0780176\ttest: 649.0670535\tbest: 649.0670535 (53)\ttotal: 3.21s\tremaining: 2.74s\n",
      "54:\tlearn: 661.1648915\ttest: 645.3140536\tbest: 645.3140536 (54)\ttotal: 3.29s\tremaining: 2.69s\n",
      "55:\tlearn: 657.1434443\ttest: 642.1048355\tbest: 642.1048355 (55)\ttotal: 3.36s\tremaining: 2.64s\n",
      "56:\tlearn: 654.0090972\ttest: 638.8156307\tbest: 638.8156307 (56)\ttotal: 3.44s\tremaining: 2.59s\n",
      "57:\tlearn: 651.4623587\ttest: 636.4160216\tbest: 636.4160216 (57)\ttotal: 3.51s\tremaining: 2.54s\n",
      "58:\tlearn: 646.3380333\ttest: 631.6748902\tbest: 631.6748902 (58)\ttotal: 3.58s\tremaining: 2.49s\n",
      "59:\tlearn: 641.5418621\ttest: 627.7170662\tbest: 627.7170662 (59)\ttotal: 3.66s\tremaining: 2.44s\n",
      "60:\tlearn: 638.2466948\ttest: 625.1634454\tbest: 625.1634454 (60)\ttotal: 3.73s\tremaining: 2.38s\n",
      "61:\tlearn: 634.8115287\ttest: 622.2922545\tbest: 622.2922545 (61)\ttotal: 3.8s\tremaining: 2.33s\n",
      "62:\tlearn: 632.0114363\ttest: 619.6249381\tbest: 619.6249381 (62)\ttotal: 3.88s\tremaining: 2.28s\n",
      "63:\tlearn: 629.7493044\ttest: 617.7421673\tbest: 617.7421673 (63)\ttotal: 3.95s\tremaining: 2.22s\n",
      "64:\tlearn: 627.8726482\ttest: 616.2731187\tbest: 616.2731187 (64)\ttotal: 4.03s\tremaining: 2.17s\n",
      "65:\tlearn: 624.7483467\ttest: 613.6006308\tbest: 613.6006308 (65)\ttotal: 4.1s\tremaining: 2.11s\n",
      "66:\tlearn: 622.9755396\ttest: 612.2627690\tbest: 612.2627690 (66)\ttotal: 4.17s\tremaining: 2.06s\n",
      "67:\tlearn: 621.5404265\ttest: 610.8773153\tbest: 610.8773153 (67)\ttotal: 4.25s\tremaining: 2s\n",
      "68:\tlearn: 619.6590192\ttest: 609.2816462\tbest: 609.2816462 (68)\ttotal: 4.32s\tremaining: 1.94s\n",
      "69:\tlearn: 617.1730446\ttest: 607.2582482\tbest: 607.2582482 (69)\ttotal: 4.4s\tremaining: 1.88s\n",
      "70:\tlearn: 614.8850011\ttest: 605.4007556\tbest: 605.4007556 (70)\ttotal: 4.47s\tremaining: 1.83s\n",
      "71:\tlearn: 612.7752250\ttest: 603.6168620\tbest: 603.6168620 (71)\ttotal: 4.54s\tremaining: 1.77s\n",
      "72:\tlearn: 611.3680678\ttest: 602.7652015\tbest: 602.7652015 (72)\ttotal: 4.62s\tremaining: 1.71s\n",
      "73:\tlearn: 609.0282069\ttest: 600.2964250\tbest: 600.2964250 (73)\ttotal: 4.69s\tremaining: 1.65s\n",
      "74:\tlearn: 607.4611281\ttest: 598.4523185\tbest: 598.4523185 (74)\ttotal: 4.77s\tremaining: 1.59s\n",
      "75:\tlearn: 605.9368872\ttest: 597.4160416\tbest: 597.4160416 (75)\ttotal: 4.84s\tremaining: 1.53s\n",
      "76:\tlearn: 604.9332425\ttest: 596.5267744\tbest: 596.5267744 (76)\ttotal: 4.92s\tremaining: 1.47s\n",
      "77:\tlearn: 603.0449688\ttest: 595.1884431\tbest: 595.1884431 (77)\ttotal: 4.99s\tremaining: 1.41s\n",
      "78:\tlearn: 602.0476670\ttest: 594.5609553\tbest: 594.5609553 (78)\ttotal: 5.06s\tremaining: 1.35s\n",
      "79:\tlearn: 600.8241892\ttest: 593.1277786\tbest: 593.1277786 (79)\ttotal: 5.14s\tremaining: 1.28s\n",
      "80:\tlearn: 599.9001949\ttest: 592.4906219\tbest: 592.4906219 (80)\ttotal: 5.22s\tremaining: 1.22s\n",
      "81:\tlearn: 598.2125964\ttest: 590.3307048\tbest: 590.3307048 (81)\ttotal: 5.29s\tremaining: 1.16s\n",
      "82:\tlearn: 597.0902156\ttest: 589.5793724\tbest: 589.5793724 (82)\ttotal: 5.36s\tremaining: 1.1s\n",
      "83:\tlearn: 596.2295578\ttest: 588.7387426\tbest: 588.7387426 (83)\ttotal: 5.44s\tremaining: 1.03s\n",
      "84:\tlearn: 595.4214521\ttest: 587.5781780\tbest: 587.5781780 (84)\ttotal: 5.51s\tremaining: 973ms\n",
      "85:\tlearn: 593.9239418\ttest: 586.4740701\tbest: 586.4740701 (85)\ttotal: 5.58s\tremaining: 909ms\n",
      "86:\tlearn: 593.1170372\ttest: 586.0746500\tbest: 586.0746500 (86)\ttotal: 5.66s\tremaining: 845ms\n",
      "87:\tlearn: 592.0620675\ttest: 585.2979041\tbest: 585.2979041 (87)\ttotal: 5.73s\tremaining: 781ms\n",
      "88:\tlearn: 591.0677731\ttest: 584.6420133\tbest: 584.6420133 (88)\ttotal: 5.82s\tremaining: 720ms\n",
      "89:\tlearn: 589.0160029\ttest: 583.2552857\tbest: 583.2552857 (89)\ttotal: 5.91s\tremaining: 656ms\n",
      "90:\tlearn: 588.1669093\ttest: 582.6668866\tbest: 582.6668866 (90)\ttotal: 5.98s\tremaining: 592ms\n",
      "91:\tlearn: 586.9732101\ttest: 581.8433257\tbest: 581.8433257 (91)\ttotal: 6.05s\tremaining: 527ms\n",
      "92:\tlearn: 585.6170448\ttest: 580.6312534\tbest: 580.6312534 (92)\ttotal: 6.13s\tremaining: 461ms\n",
      "93:\tlearn: 583.8862028\ttest: 579.2468742\tbest: 579.2468742 (93)\ttotal: 6.21s\tremaining: 396ms\n",
      "94:\tlearn: 583.0675965\ttest: 578.6789358\tbest: 578.6789358 (94)\ttotal: 6.28s\tremaining: 331ms\n",
      "95:\tlearn: 582.3206044\ttest: 578.4642023\tbest: 578.4642023 (95)\ttotal: 6.36s\tremaining: 265ms\n",
      "96:\tlearn: 581.2874911\ttest: 577.5900591\tbest: 577.5900591 (96)\ttotal: 6.43s\tremaining: 199ms\n",
      "97:\tlearn: 579.8858029\ttest: 576.2750536\tbest: 576.2750536 (97)\ttotal: 6.5s\tremaining: 133ms\n",
      "98:\tlearn: 579.0621548\ttest: 575.8627908\tbest: 575.8627908 (98)\ttotal: 6.6s\tremaining: 66.6ms\n",
      "99:\tlearn: 577.7340465\ttest: 574.6187276\tbest: 574.6187276 (99)\ttotal: 6.69s\tremaining: 0us\n",
      "\n",
      "bestTest = 574.6187276\n",
      "bestIteration = 99\n",
      "\n"
     ]
    },
    {
     "data": {
      "text/plain": [
       "<catboost.core.CatBoostRegressor at 0x237053f4fe0>"
      ]
     },
     "execution_count": 15,
     "metadata": {},
     "output_type": "execute_result"
    }
   ],
   "source": [
    "model.fit(X_train, y_train, cat_features=cat_features, eval_set=(X_test, y_test), plot=True)"
   ]
  },
  {
   "cell_type": "code",
   "execution_count": 16,
   "id": "483cd98d-e937-4c17-9716-a4c7f54e5c8c",
   "metadata": {},
   "outputs": [
    {
     "name": "stdout",
     "output_type": "stream",
     "text": [
      "Mean Squared Error: 330186.68215597613\n"
     ]
    }
   ],
   "source": [
    "preds = model.predict(X_test)\n",
    "\n",
    "\n",
    "from sklearn.metrics import mean_squared_error\n",
    "mse = mean_squared_error(y_test, preds)\n",
    "print(f\"Mean Squared Error: {mse}\")"
   ]
  },
  {
   "cell_type": "code",
   "execution_count": null,
   "id": "4bf861f7-eb79-419f-961b-e79eb97bc3b4",
   "metadata": {},
   "outputs": [],
   "source": []
  },
  {
   "cell_type": "markdown",
   "id": "325ed454-7b82-4068-8b4c-4376518005f6",
   "metadata": {},
   "source": [
    "### External SHAP"
   ]
  },
  {
   "cell_type": "code",
   "execution_count": 17,
   "id": "431c0e00-7296-4856-b70c-bcbd92d2b861",
   "metadata": {},
   "outputs": [],
   "source": [
    "# Initialize the SHAP explainer\n",
    "explainer = shap.Explainer(model)"
   ]
  },
  {
   "cell_type": "code",
   "execution_count": 18,
   "id": "6a2c7dcf-4667-47a8-a406-50b6a65b04f4",
   "metadata": {},
   "outputs": [],
   "source": [
    "# Compute SHAP values for the test set\n",
    "shap_values = explainer(X_test)"
   ]
  },
  {
   "cell_type": "code",
   "execution_count": 19,
   "id": "a393d684-319b-447d-9b15-56a6f3217e47",
   "metadata": {},
   "outputs": [
    {
     "data": {
      "text/plain": [
       ".values =\n",
       "array([[ -948.3094724 ,    29.74137355,    13.26422408, ...,\n",
       "         -769.58488841, -1260.04005745,  -778.9285485 ],\n",
       "       [ -872.38629094,   -13.79215958,   187.85628655, ...,\n",
       "         -140.52605155,  -777.42756469,  -483.89224251],\n",
       "       [ -803.73116086,    38.9795367 ,   305.60313047, ...,\n",
       "         -667.49984997, -1245.97435532,  -773.12831782],\n",
       "       ...,\n",
       "       [ -807.33036761,   -22.65571613,    11.81629695, ...,\n",
       "         -722.73083087, -1225.59056386,  -752.53397717],\n",
       "       [ 1658.80571382,   108.22992427,   617.74110119, ...,\n",
       "           89.49613946,  1391.70832137,   897.61693551],\n",
       "       [  577.93094046,   -41.81085357,  -971.29378862, ...,\n",
       "          149.44157434,   423.70276493,   444.29577242]])\n",
       "\n",
       ".base_values =\n",
       "array([3939.35853733, 3939.35853733, 3939.35853733, ..., 3939.35853733,\n",
       "       3939.35853733, 3939.35853733])\n",
       "\n",
       ".data =\n",
       "array([[0.24, 'Ideal', 'G', ..., 3.97, 4.0, 2.47],\n",
       "       [0.58, 'Very Good', 'F', ..., 5.44, 5.42, 3.26],\n",
       "       [0.4, 'Ideal', 'E', ..., 4.76, 4.74, 2.95],\n",
       "       ...,\n",
       "       [0.31, 'Good', 'G', ..., 4.42, 4.47, 2.58],\n",
       "       [1.23, 'Ideal', 'F', ..., 6.85, 6.82, 4.27],\n",
       "       [1.08, 'Good', 'J', ..., 6.4, 6.57, 4.1]], dtype=object)"
      ]
     },
     "execution_count": 19,
     "metadata": {},
     "output_type": "execute_result"
    }
   ],
   "source": [
    "shap_values"
   ]
  },
  {
   "cell_type": "code",
   "execution_count": 20,
   "id": "e106b044-5bf9-4ac8-9957-ad41f4e41e7a",
   "metadata": {},
   "outputs": [
    {
     "data": {
      "image/png": "[encoded data removed]",
      "text/plain": [
       "<Figure size 800x510 with 2 Axes>"
      ]
     },
     "metadata": {},
     "output_type": "display_data"
    }
   ],
   "source": [
    "shap.summary_plot(shap_values, X_test)"
   ]
  },
  {
   "cell_type": "code",
   "execution_count": 21,
   "id": "53925e6f-16c9-44e2-b4ea-c9d392a0f798",
   "metadata": {},
   "outputs": [],
   "source": [
    "shap_df = pd.DataFrame(shap_values.values, columns=X_test.columns)"
   ]
  },
  {
   "cell_type": "code",
   "execution_count": 22,
   "id": "966f8ca6-66f5-4e6f-9635-df832a486ea3",
   "metadata": {},
   "outputs": [
    {
     "data": {
      "text/html": [
       "<div>\n",
       "<style scoped>\n",
       "    .dataframe tbody tr th:only-of-type {\n",
       "        vertical-align: middle;\n",
       "    }\n",
       "\n",
       "    .dataframe tbody tr th {\n",
       "        vertical-align: top;\n",
       "    }\n",
       "\n",
       "    .dataframe thead th {\n",
       "        text-align: right;\n",
       "    }\n",
       "</style>\n",
       "<table border=\"1\" class=\"dataframe\">\n",
       "  <thead>\n",
       "    <tr style=\"text-align: right;\">\n",
       "      <th></th>\n",
       "      <th>carat</th>\n",
       "      <th>cut</th>\n",
       "      <th>color</th>\n",
       "      <th>clarity</th>\n",
       "      <th>depth</th>\n",
       "      <th>table</th>\n",
       "      <th>x</th>\n",
       "      <th>y</th>\n",
       "      <th>z</th>\n",
       "    </tr>\n",
       "  </thead>\n",
       "  <tbody>\n",
       "    <tr>\n",
       "      <th>0</th>\n",
       "      <td>-948.309472</td>\n",
       "      <td>29.741374</td>\n",
       "      <td>13.264224</td>\n",
       "      <td>468.450833</td>\n",
       "      <td>13.774276</td>\n",
       "      <td>4.440762</td>\n",
       "      <td>-769.584888</td>\n",
       "      <td>-1260.040057</td>\n",
       "      <td>-778.928549</td>\n",
       "    </tr>\n",
       "    <tr>\n",
       "      <th>1</th>\n",
       "      <td>-872.386291</td>\n",
       "      <td>-13.792160</td>\n",
       "      <td>187.856287</td>\n",
       "      <td>494.792624</td>\n",
       "      <td>-21.374457</td>\n",
       "      <td>4.403128</td>\n",
       "      <td>-140.526052</td>\n",
       "      <td>-777.427565</td>\n",
       "      <td>-483.892243</td>\n",
       "    </tr>\n",
       "    <tr>\n",
       "      <th>2</th>\n",
       "      <td>-803.731161</td>\n",
       "      <td>38.979537</td>\n",
       "      <td>305.603130</td>\n",
       "      <td>474.399168</td>\n",
       "      <td>13.581703</td>\n",
       "      <td>4.939796</td>\n",
       "      <td>-667.499850</td>\n",
       "      <td>-1245.974355</td>\n",
       "      <td>-773.128318</td>\n",
       "    </tr>\n",
       "    <tr>\n",
       "      <th>3</th>\n",
       "      <td>-800.171139</td>\n",
       "      <td>-29.980288</td>\n",
       "      <td>306.019324</td>\n",
       "      <td>477.903521</td>\n",
       "      <td>7.919192</td>\n",
       "      <td>4.939796</td>\n",
       "      <td>-658.677611</td>\n",
       "      <td>-1131.463215</td>\n",
       "      <td>-782.910371</td>\n",
       "    </tr>\n",
       "    <tr>\n",
       "      <th>4</th>\n",
       "      <td>2044.149312</td>\n",
       "      <td>113.501220</td>\n",
       "      <td>756.063096</td>\n",
       "      <td>-2052.375106</td>\n",
       "      <td>49.223020</td>\n",
       "      <td>27.156931</td>\n",
       "      <td>1164.615968</td>\n",
       "      <td>2333.085582</td>\n",
       "      <td>1486.637651</td>\n",
       "    </tr>\n",
       "  </tbody>\n",
       "</table>\n",
       "</div>"
      ],
      "text/plain": [
       "         carat         cut       color      clarity      depth      table  \\\n",
       "0  -948.309472   29.741374   13.264224   468.450833  13.774276   4.440762   \n",
       "1  -872.386291  -13.792160  187.856287   494.792624 -21.374457   4.403128   \n",
       "2  -803.731161   38.979537  305.603130   474.399168  13.581703   4.939796   \n",
       "3  -800.171139  -29.980288  306.019324   477.903521   7.919192   4.939796   \n",
       "4  2044.149312  113.501220  756.063096 -2052.375106  49.223020  27.156931   \n",
       "\n",
       "             x            y            z  \n",
       "0  -769.584888 -1260.040057  -778.928549  \n",
       "1  -140.526052  -777.427565  -483.892243  \n",
       "2  -667.499850 -1245.974355  -773.128318  \n",
       "3  -658.677611 -1131.463215  -782.910371  \n",
       "4  1164.615968  2333.085582  1486.637651  "
      ]
     },
     "execution_count": 22,
     "metadata": {},
     "output_type": "execute_result"
    }
   ],
   "source": [
    "shap_df.head()"
   ]
  },
  {
   "cell_type": "markdown",
   "id": "fb42665f-31e4-4ad6-8410-ac72f379809f",
   "metadata": {},
   "source": [
    "### INBUILT SHAP"
   ]
  },
  {
   "cell_type": "code",
   "execution_count": 23,
   "id": "cce2c37c-a7bc-475d-b260-eb9d2d8c3514",
   "metadata": {},
   "outputs": [
    {
     "data": {
      "text/html": [
       "<div>\n",
       "<style scoped>\n",
       "    .dataframe tbody tr th:only-of-type {\n",
       "        vertical-align: middle;\n",
       "    }\n",
       "\n",
       "    .dataframe tbody tr th {\n",
       "        vertical-align: top;\n",
       "    }\n",
       "\n",
       "    .dataframe thead th {\n",
       "        text-align: right;\n",
       "    }\n",
       "</style>\n",
       "<table border=\"1\" class=\"dataframe\">\n",
       "  <thead>\n",
       "    <tr style=\"text-align: right;\">\n",
       "      <th></th>\n",
       "      <th>carat</th>\n",
       "      <th>cut</th>\n",
       "      <th>color</th>\n",
       "      <th>clarity</th>\n",
       "      <th>depth</th>\n",
       "      <th>table</th>\n",
       "      <th>x</th>\n",
       "      <th>y</th>\n",
       "      <th>z</th>\n",
       "    </tr>\n",
       "  </thead>\n",
       "  <tbody>\n",
       "    <tr>\n",
       "      <th>0</th>\n",
       "      <td>-948.309472</td>\n",
       "      <td>29.741374</td>\n",
       "      <td>13.264224</td>\n",
       "      <td>468.450833</td>\n",
       "      <td>13.774276</td>\n",
       "      <td>4.440762</td>\n",
       "      <td>-769.584888</td>\n",
       "      <td>-1260.040057</td>\n",
       "      <td>-778.928549</td>\n",
       "    </tr>\n",
       "    <tr>\n",
       "      <th>1</th>\n",
       "      <td>-872.386291</td>\n",
       "      <td>-13.792160</td>\n",
       "      <td>187.856287</td>\n",
       "      <td>494.792624</td>\n",
       "      <td>-21.374457</td>\n",
       "      <td>4.403128</td>\n",
       "      <td>-140.526052</td>\n",
       "      <td>-777.427565</td>\n",
       "      <td>-483.892243</td>\n",
       "    </tr>\n",
       "    <tr>\n",
       "      <th>2</th>\n",
       "      <td>-803.731161</td>\n",
       "      <td>38.979537</td>\n",
       "      <td>305.603130</td>\n",
       "      <td>474.399168</td>\n",
       "      <td>13.581703</td>\n",
       "      <td>4.939796</td>\n",
       "      <td>-667.499850</td>\n",
       "      <td>-1245.974355</td>\n",
       "      <td>-773.128318</td>\n",
       "    </tr>\n",
       "    <tr>\n",
       "      <th>3</th>\n",
       "      <td>-800.171139</td>\n",
       "      <td>-29.980288</td>\n",
       "      <td>306.019324</td>\n",
       "      <td>477.903521</td>\n",
       "      <td>7.919192</td>\n",
       "      <td>4.939796</td>\n",
       "      <td>-658.677611</td>\n",
       "      <td>-1131.463215</td>\n",
       "      <td>-782.910371</td>\n",
       "    </tr>\n",
       "    <tr>\n",
       "      <th>4</th>\n",
       "      <td>2044.149312</td>\n",
       "      <td>113.501220</td>\n",
       "      <td>756.063096</td>\n",
       "      <td>-2052.375106</td>\n",
       "      <td>49.223020</td>\n",
       "      <td>27.156931</td>\n",
       "      <td>1164.615968</td>\n",
       "      <td>2333.085582</td>\n",
       "      <td>1486.637651</td>\n",
       "    </tr>\n",
       "  </tbody>\n",
       "</table>\n",
       "</div>"
      ],
      "text/plain": [
       "         carat         cut       color      clarity      depth      table  \\\n",
       "0  -948.309472   29.741374   13.264224   468.450833  13.774276   4.440762   \n",
       "1  -872.386291  -13.792160  187.856287   494.792624 -21.374457   4.403128   \n",
       "2  -803.731161   38.979537  305.603130   474.399168  13.581703   4.939796   \n",
       "3  -800.171139  -29.980288  306.019324   477.903521   7.919192   4.939796   \n",
       "4  2044.149312  113.501220  756.063096 -2052.375106  49.223020  27.156931   \n",
       "\n",
       "             x            y            z  \n",
       "0  -769.584888 -1260.040057  -778.928549  \n",
       "1  -140.526052  -777.427565  -483.892243  \n",
       "2  -667.499850 -1245.974355  -773.128318  \n",
       "3  -658.677611 -1131.463215  -782.910371  \n",
       "4  1164.615968  2333.085582  1486.637651  "
      ]
     },
     "execution_count": 23,
     "metadata": {},
     "output_type": "execute_result"
    }
   ],
   "source": [
    "shap_values = model.get_feature_importance(type='ShapValues', data=Pool(X_test, label=y_test, cat_features=cat_features))\n",
    "\n",
    "shap_values = np.array(shap_values)[:, :-1]\n",
    "\n",
    "shap_df = pd.DataFrame(shap_values, columns=X_test.columns)\n",
    "\n",
    "shap_df.head()"
   ]
  },
  {
   "cell_type": "code",
   "execution_count": null,
   "id": "d5039b18-48b1-449e-9736-91dd6dea73dc",
   "metadata": {},
   "outputs": [],
   "source": []
  }
 ],
 "metadata": {
  "kernelspec": {
   "display_name": "Python 3 (ipykernel)",
   "language": "python",
   "name": "python3"
  },
  "language_info": {
   "codemirror_mode": {
    "name": "ipython",
    "version": 3
   },
   "file_extension": ".py",
   "mimetype": "text/x-python",
   "name": "python",
   "nbconvert_exporter": "python",
   "pygments_lexer": "ipython3",
   "version": "3.12.3"
  }
 },
 "nbformat": 4,
 "nbformat_minor": 5
}
